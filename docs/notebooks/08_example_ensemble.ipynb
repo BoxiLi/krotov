{
 "cells": [
  {
   "cell_type": "markdown",
   "metadata": {},
   "source": [
    "# Ensemble Optimization for Robust Pulses"
   ]
  },
  {
   "cell_type": "code",
   "execution_count": 1,
   "metadata": {
    "ExecuteTime": {
     "end_time": "2020-03-22T05:01:29.419196Z",
     "start_time": "2020-03-22T05:01:27.400452Z"
    },
    "attributes": {
     "classes": [],
     "id": "",
     "n": "1"
    },
    "execution": {
     "iopub.execute_input": "2024-06-03T14:25:44.483473Z",
     "iopub.status.busy": "2024-06-03T14:25:44.483339Z",
     "iopub.status.idle": "2024-06-03T14:25:45.123828Z",
     "shell.execute_reply": "2024-06-03T14:25:45.123485Z"
    }
   },
   "outputs": [
    {
     "name": "stdout",
     "output_type": "stream",
     "text": [
      "Python implementation: CPython\n",
      "Python version       : 3.11.9\n",
      "IPython version      : 8.24.0\n",
      "\n",
      "qutip     : 5.1.0.dev0+0aee93e\n",
      "matplotlib: 3.9.0\n",
      "numpy     : 1.26.4\n",
      "scipy     : 1.12.0\n",
      "krotov    : 1.2.1+dev\n",
      "sys       : 3.11.9 (main, Apr 19 2024, 16:48:06) [GCC 11.2.0]\n",
      "\n"
     ]
    }
   ],
   "source": [
    "# NBVAL_IGNORE_OUTPUT\n",
    "%load_ext watermark\n",
    "import sys\n",
    "import os\n",
    "import qutip\n",
    "import numpy as np\n",
    "import scipy\n",
    "import matplotlib\n",
    "import matplotlib.pylab as plt\n",
    "import krotov\n",
    "from qutip import Qobj\n",
    "import pickle\n",
    "\n",
    "%watermark -v --iversions"
   ]
  },
  {
   "cell_type": "markdown",
   "metadata": {},
   "source": [
    "$\\newcommand{tr}[0]{\\operatorname{tr}}\n",
    "\\newcommand{diag}[0]{\\operatorname{diag}}\n",
    "\\newcommand{abs}[0]{\\operatorname{abs}}\n",
    "\\newcommand{pop}[0]{\\operatorname{pop}}\n",
    "\\newcommand{aux}[0]{\\text{aux}}\n",
    "\\newcommand{opt}[0]{\\text{opt}}\n",
    "\\newcommand{tgt}[0]{\\text{tgt}}\n",
    "\\newcommand{init}[0]{\\text{init}}\n",
    "\\newcommand{lab}[0]{\\text{lab}}\n",
    "\\newcommand{rwa}[0]{\\text{rwa}}\n",
    "\\newcommand{bra}[1]{\\langle#1\\vert}\n",
    "\\newcommand{ket}[1]{\\vert#1\\rangle}\n",
    "\\newcommand{Bra}[1]{\\left\\langle#1\\right\\vert}\n",
    "\\newcommand{Ket}[1]{\\left\\vert#1\\right\\rangle}\n",
    "\\newcommand{Braket}[2]{\\left\\langle #1\\vphantom{#2}\\mid{#2}\\vphantom{#1}\\right\\rangle}\n",
    "\\newcommand{ketbra}[2]{\\vert#1\\rangle\\!\\langle#2\\vert}\n",
    "\\newcommand{op}[1]{\\hat{#1}}\n",
    "\\newcommand{Op}[1]{\\hat{#1}}\n",
    "\\newcommand{dd}[0]{\\,\\text{d}}\n",
    "\\newcommand{Liouville}[0]{\\mathcal{L}}\n",
    "\\newcommand{DynMap}[0]{\\mathcal{E}}\n",
    "\\newcommand{identity}[0]{\\mathbf{1}}\n",
    "\\newcommand{Norm}[1]{\\lVert#1\\rVert}\n",
    "\\newcommand{Abs}[1]{\\left\\vert#1\\right\\vert}\n",
    "\\newcommand{avg}[1]{\\langle#1\\rangle}\n",
    "\\newcommand{Avg}[1]{\\left\\langle#1\\right\\rangle}\n",
    "\\newcommand{AbsSq}[1]{\\left\\vert#1\\right\\vert^2}\n",
    "\\newcommand{Re}[0]{\\operatorname{Re}}\n",
    "\\newcommand{Im}[0]{\\operatorname{Im}}\n",
    "\\newcommand{toP}[0]{\\omega_{12}}\n",
    "\\newcommand{toS}[0]{\\omega_{23}}$\n",
    "\n",
    "This example revisits the [Optimization of a State-to-State Transfer in a\n",
    "Lambda System in the RWA](02_example_lambda_system_rwa_complex_pulse.ipynb),\n",
    "attempting to make the control pulses robustness with respect to variations in\n",
    "the pulse amplitude, through \"ensemble optimization\"."
   ]
  },
  {
   "cell_type": "markdown",
   "metadata": {},
   "source": [
    "## Control objectives for population transfer in the Lambda system\n",
    "\n",
    "As in the original example, we define the Hamiltonian for a Lambda system in\n",
    "the rotating wave approximation, like this:\n",
    "\n",
    "![Lambda system considered in this notebook](energylevels.png)\n",
    "\n",
    "We set up the control fields and the Hamiltonian exactly as before:"
   ]
  },
  {
   "cell_type": "code",
   "execution_count": 2,
   "metadata": {
    "ExecuteTime": {
     "end_time": "2020-03-22T05:01:29.441078Z",
     "start_time": "2020-03-22T05:01:29.429149Z"
    },
    "execution": {
     "iopub.execute_input": "2024-06-03T14:25:45.145515Z",
     "iopub.status.busy": "2024-06-03T14:25:45.145298Z",
     "iopub.status.idle": "2024-06-03T14:25:45.147955Z",
     "shell.execute_reply": "2024-06-03T14:25:45.147686Z"
    }
   },
   "outputs": [],
   "source": [
    "def Omega_P1(t, args):\n",
    "    \"\"\"Guess for the real part of the pump pulse\"\"\"\n",
    "    Ω0 = 5.0\n",
    "    return Ω0 * krotov.shapes.blackman(t, t_start=2.0, t_stop=5.0)\n",
    "\n",
    "\n",
    "def Omega_P2(t, args):\n",
    "    \"\"\"Guess for the imaginary part of the pump pulse\"\"\"\n",
    "    return 0.0\n",
    "\n",
    "\n",
    "def Omega_S1(t, args):\n",
    "    \"\"\"Guess for the real part of the Stokes pulse\"\"\"\n",
    "    Ω0 = 5.0\n",
    "    return Ω0 * krotov.shapes.blackman(t, t_start=0.0, t_stop=3.0)\n",
    "\n",
    "\n",
    "def Omega_S2(t, args):\n",
    "    \"\"\"Guess for the imaginary part of the Stokes pulse\"\"\"\n",
    "    return 0.0"
   ]
  },
  {
   "cell_type": "code",
   "execution_count": 3,
   "metadata": {
    "ExecuteTime": {
     "end_time": "2020-03-22T05:01:29.448554Z",
     "start_time": "2020-03-22T05:01:29.443630Z"
    },
    "execution": {
     "iopub.execute_input": "2024-06-03T14:25:45.149334Z",
     "iopub.status.busy": "2024-06-03T14:25:45.149232Z",
     "iopub.status.idle": "2024-06-03T14:25:45.151126Z",
     "shell.execute_reply": "2024-06-03T14:25:45.150878Z"
    }
   },
   "outputs": [],
   "source": [
    "tlist = np.linspace(0, 5, 500)"
   ]
  },
  {
   "cell_type": "code",
   "execution_count": 4,
   "metadata": {
    "ExecuteTime": {
     "end_time": "2020-03-22T05:01:29.467163Z",
     "start_time": "2020-03-22T05:01:29.452425Z"
    },
    "execution": {
     "iopub.execute_input": "2024-06-03T14:25:45.152558Z",
     "iopub.status.busy": "2024-06-03T14:25:45.152452Z",
     "iopub.status.idle": "2024-06-03T14:25:45.155197Z",
     "shell.execute_reply": "2024-06-03T14:25:45.154961Z"
    }
   },
   "outputs": [],
   "source": [
    "def hamiltonian(E1=0.0, E2=10.0, E3=5.0, omega_P=9.5, omega_S=4.5):\n",
    "    \"\"\"Lambda-system Hamiltonian in the RWA\"\"\"\n",
    "\n",
    "    # detunings\n",
    "    ΔP = E1 + omega_P - E2\n",
    "    ΔS = E3 + omega_S - E2\n",
    "\n",
    "    H0 = Qobj([[ΔP, 0.0, 0.0], [0.0, 0.0, 0.0], [0.0, 0.0, ΔS]])\n",
    "\n",
    "    HP_re = -0.5 * Qobj([[0.0, 1.0, 0.0], [1.0, 0.0, 0.0], [0.0, 0.0, 0.0]])\n",
    "    HP_im = -0.5 * Qobj([[0.0, 1.0j, 0.0], [-1.0j, 0.0, 0.0], [0.0, 0.0, 0.0]])\n",
    "\n",
    "    HS_re = -0.5 * Qobj([[0.0, 0.0, 0.0], [0.0, 0.0, 1.0], [0.0, 1.0, 0.0]])\n",
    "    HS_im = -0.5 * Qobj([[0.0, 0.0, 0.0], [0.0, 0.0, 1.0j], [0.0, -1.0j, 0.0]])\n",
    "\n",
    "    return [\n",
    "        H0,\n",
    "        [HP_re, Omega_P1],\n",
    "        [HP_im, Omega_P2],\n",
    "        [HS_re, Omega_S1],\n",
    "        [HS_im, Omega_S2],\n",
    "    ]"
   ]
  },
  {
   "cell_type": "code",
   "execution_count": 5,
   "metadata": {
    "ExecuteTime": {
     "end_time": "2020-03-22T05:01:29.480174Z",
     "start_time": "2020-03-22T05:01:29.470251Z"
    },
    "execution": {
     "iopub.execute_input": "2024-06-03T14:25:45.156516Z",
     "iopub.status.busy": "2024-06-03T14:25:45.156402Z",
     "iopub.status.idle": "2024-06-03T14:25:45.159010Z",
     "shell.execute_reply": "2024-06-03T14:25:45.158758Z"
    }
   },
   "outputs": [],
   "source": [
    "H = hamiltonian()"
   ]
  },
  {
   "cell_type": "markdown",
   "metadata": {},
   "source": [
    "The control objective is the realization of a phase sensitive $\\ket{1}\n",
    "\\rightarrow \\ket{3}$ transition in the lab frame. Thus, in the rotating frame,\n",
    "we must take into account an additional phase factor."
   ]
  },
  {
   "cell_type": "code",
   "execution_count": 6,
   "metadata": {
    "ExecuteTime": {
     "end_time": "2020-03-22T05:01:29.492615Z",
     "start_time": "2020-03-22T05:01:29.482710Z"
    },
    "execution": {
     "iopub.execute_input": "2024-06-03T14:25:45.160692Z",
     "iopub.status.busy": "2024-06-03T14:25:45.160580Z",
     "iopub.status.idle": "2024-06-03T14:25:45.162951Z",
     "shell.execute_reply": "2024-06-03T14:25:45.162706Z"
    }
   },
   "outputs": [],
   "source": [
    "ket1 = qutip.Qobj(np.array([1.0, 0.0, 0.0]))\n",
    "ket2 = qutip.Qobj(np.array([0.0, 1.0, 0.0]))\n",
    "ket3 = qutip.Qobj(np.array([0.0, 0.0, 1.0]))"
   ]
  },
  {
   "cell_type": "code",
   "execution_count": 7,
   "metadata": {
    "ExecuteTime": {
     "end_time": "2020-03-22T05:01:29.502476Z",
     "start_time": "2020-03-22T05:01:29.497857Z"
    },
    "execution": {
     "iopub.execute_input": "2024-06-03T14:25:45.164288Z",
     "iopub.status.busy": "2024-06-03T14:25:45.164176Z",
     "iopub.status.idle": "2024-06-03T14:25:45.165980Z",
     "shell.execute_reply": "2024-06-03T14:25:45.165714Z"
    }
   },
   "outputs": [],
   "source": [
    "def rwa_target_state(ket3, E2=10.0, omega_S=4.5, T=5):\n",
    "    return np.exp(1j * (E2 - omega_S) * T) * ket3"
   ]
  },
  {
   "cell_type": "code",
   "execution_count": 8,
   "metadata": {
    "ExecuteTime": {
     "end_time": "2020-03-22T05:01:29.511580Z",
     "start_time": "2020-03-22T05:01:29.505632Z"
    },
    "execution": {
     "iopub.execute_input": "2024-06-03T14:25:45.167760Z",
     "iopub.status.busy": "2024-06-03T14:25:45.167617Z",
     "iopub.status.idle": "2024-06-03T14:25:45.169516Z",
     "shell.execute_reply": "2024-06-03T14:25:45.169225Z"
    }
   },
   "outputs": [],
   "source": [
    "psi_target = rwa_target_state(ket3)"
   ]
  },
  {
   "cell_type": "code",
   "execution_count": 9,
   "metadata": {
    "ExecuteTime": {
     "end_time": "2020-03-22T05:01:29.523688Z",
     "start_time": "2020-03-22T05:01:29.514140Z"
    },
    "execution": {
     "iopub.execute_input": "2024-06-03T14:25:45.171021Z",
     "iopub.status.busy": "2024-06-03T14:25:45.170916Z",
     "iopub.status.idle": "2024-06-03T14:25:45.174724Z",
     "shell.execute_reply": "2024-06-03T14:25:45.174447Z"
    }
   },
   "outputs": [
    {
     "data": {
      "text/plain": [
       "[Objective[|Ψ₀(3)⟩ to |Ψ₁(3)⟩ via [H₀[3,3], [H₁[3,3], u₁(t)], [H₂[3,3], u₂(t)], [H₃[3,3], u₃(t)], [H₄[3,3], u₄(t)]]]]"
      ]
     },
     "execution_count": 9,
     "metadata": {},
     "output_type": "execute_result"
    }
   ],
   "source": [
    "objective = krotov.Objective(initial_state=ket1, target=psi_target, H=H)\n",
    "objectives = [objective]\n",
    "objectives"
   ]
  },
  {
   "cell_type": "markdown",
   "metadata": {},
   "source": [
    "## Robustness to amplitude fluctuations\n",
    "\n",
    "A potential source of error is fluctuations in the pulse amplitude between\n",
    "different runs of the experiment. To account for this, the `hamiltonian`\n",
    "function above include a parameter `mu` that scales the pulse amplitudes by the\n",
    "given factor.\n",
    "\n",
    "We can analyze the result of the [Optimization of a State-to-State Transfer in\n",
    "a Lambda System in the RWA](02_example_lambda_system_rwa_complex_pulse.ipynb)\n",
    "with respect to such fluctuations. We load the earlier optimization result from\n",
    "disk, and verify that the optimized controls produce the $\\ket{1} \\rightarrow\n",
    "\\ket{3}$ transition as desired."
   ]
  },
  {
   "cell_type": "code",
   "execution_count": 10,
   "metadata": {
    "ExecuteTime": {
     "end_time": "2020-03-22T05:01:29.532018Z",
     "start_time": "2020-03-22T05:01:29.525825Z"
    },
    "execution": {
     "iopub.execute_input": "2024-06-03T14:25:45.176475Z",
     "iopub.status.busy": "2024-06-03T14:25:45.176365Z",
     "iopub.status.idle": "2024-06-03T14:25:45.179752Z",
     "shell.execute_reply": "2024-06-03T14:25:45.179421Z"
    }
   },
   "outputs": [],
   "source": [
    "opt_result_unperturbed = krotov.result.Result.load(\n",
    "    'lambda_rwa_opt_result.dump', objectives=[objective]\n",
    ")"
   ]
  },
  {
   "cell_type": "code",
   "execution_count": 11,
   "metadata": {
    "ExecuteTime": {
     "end_time": "2020-03-22T05:01:29.540217Z",
     "start_time": "2020-03-22T05:01:29.534230Z"
    },
    "execution": {
     "iopub.execute_input": "2024-06-03T14:25:45.181134Z",
     "iopub.status.busy": "2024-06-03T14:25:45.181022Z",
     "iopub.status.idle": "2024-06-03T14:25:45.183208Z",
     "shell.execute_reply": "2024-06-03T14:25:45.182945Z"
    }
   },
   "outputs": [],
   "source": [
    "proj1 = qutip.ket2dm(ket1)\n",
    "proj2 = qutip.ket2dm(ket2)\n",
    "proj3 = qutip.ket2dm(ket3)"
   ]
  },
  {
   "cell_type": "code",
   "execution_count": 12,
   "metadata": {
    "ExecuteTime": {
     "end_time": "2020-03-22T05:01:29.860337Z",
     "start_time": "2020-03-22T05:01:29.542275Z"
    },
    "execution": {
     "iopub.execute_input": "2024-06-03T14:25:45.184598Z",
     "iopub.status.busy": "2024-06-03T14:25:45.184472Z",
     "iopub.status.idle": "2024-06-03T14:25:45.255102Z",
     "shell.execute_reply": "2024-06-03T14:25:45.254725Z"
    }
   },
   "outputs": [],
   "source": [
    "opt_unperturbed_dynamics = (\n",
    "    opt_result_unperturbed\n",
    "    .optimized_objectives[0]\n",
    "    .mesolve(tlist, e_ops=[proj1, proj2, proj3])\n",
    ")"
   ]
  },
  {
   "cell_type": "code",
   "execution_count": 13,
   "metadata": {
    "ExecuteTime": {
     "end_time": "2020-03-22T05:01:29.874858Z",
     "start_time": "2020-03-22T05:01:29.862369Z"
    },
    "execution": {
     "iopub.execute_input": "2024-06-03T14:25:45.256920Z",
     "iopub.status.busy": "2024-06-03T14:25:45.256805Z",
     "iopub.status.idle": "2024-06-03T14:25:45.259119Z",
     "shell.execute_reply": "2024-06-03T14:25:45.258871Z"
    }
   },
   "outputs": [],
   "source": [
    "def plot_population(result):\n",
    "    fig, ax = plt.subplots()\n",
    "    ax.plot(result.times, result.expect[0], label='1')\n",
    "    ax.plot(result.times, result.expect[1], label='2')\n",
    "    ax.plot(result.times, result.expect[2], label='3')\n",
    "    ax.legend()\n",
    "    ax.set_xlabel('time')\n",
    "    ax.set_ylabel('population')\n",
    "    plt.show(fig)"
   ]
  },
  {
   "cell_type": "code",
   "execution_count": 14,
   "metadata": {
    "ExecuteTime": {
     "end_time": "2020-03-22T05:01:30.119626Z",
     "start_time": "2020-03-22T05:01:29.879489Z"
    },
    "execution": {
     "iopub.execute_input": "2024-06-03T14:25:45.260666Z",
     "iopub.status.busy": "2024-06-03T14:25:45.260549Z",
     "iopub.status.idle": "2024-06-03T14:25:45.431491Z",
     "shell.execute_reply": "2024-06-03T14:25:45.427308Z"
    },
    "lines_to_next_cell": 2
   },
   "outputs": [
    {
     "data": {
      "image/png": "[encoded data removed]",
      "text/plain": [
       "<Figure size 640x480 with 1 Axes>"
      ]
     },
     "metadata": {},
     "output_type": "display_data"
    }
   ],
   "source": [
    "plot_population(opt_unperturbed_dynamics)"
   ]
  },
  {
   "cell_type": "markdown",
   "metadata": {
    "lines_to_next_cell": 2
   },
   "source": [
    "Now we can analyze how robust this control is for variations of ±20% of the\n",
    "pulse amplitude. Numerically, this is achieved by scaling the control\n",
    "Hamiltonians with a pre-factor $\\mu$.\n",
    "\n",
    "\n",
    "\n",
    "\n",
    "\n",
    "\n",
    "\n"
   ]
  },
  {
   "cell_type": "code",
   "execution_count": 15,
   "metadata": {
    "ExecuteTime": {
     "end_time": "2020-03-22T05:01:30.128652Z",
     "start_time": "2020-03-22T05:01:30.122273Z"
    },
    "execution": {
     "iopub.execute_input": "2024-06-03T14:25:45.435742Z",
     "iopub.status.busy": "2024-06-03T14:25:45.435519Z",
     "iopub.status.idle": "2024-06-03T14:25:45.439042Z",
     "shell.execute_reply": "2024-06-03T14:25:45.438751Z"
    }
   },
   "outputs": [],
   "source": [
    "def scale_control(H, *, mu):\n",
    "    \"\"\"Scale all control Hamiltonians by `mu`.\"\"\"\n",
    "    H_scaled = []\n",
    "    for spec in H:\n",
    "        if isinstance(spec, list):\n",
    "            H_scaled.append([mu * spec[0], spec[1]])\n",
    "        else:\n",
    "            H_scaled.append(spec)\n",
    "    return H_scaled"
   ]
  },
  {
   "cell_type": "markdown",
   "metadata": {},
   "source": [
    "For the analysis, we take the following sample of $\\mu$ values:"
   ]
  },
  {
   "cell_type": "code",
   "execution_count": 16,
   "metadata": {
    "ExecuteTime": {
     "end_time": "2020-03-22T05:01:30.138078Z",
     "start_time": "2020-03-22T05:01:30.131210Z"
    },
    "execution": {
     "iopub.execute_input": "2024-06-03T14:25:45.444350Z",
     "iopub.status.busy": "2024-06-03T14:25:45.444208Z",
     "iopub.status.idle": "2024-06-03T14:25:45.451939Z",
     "shell.execute_reply": "2024-06-03T14:25:45.446690Z"
    },
    "lines_to_next_cell": 2
   },
   "outputs": [],
   "source": [
    "mu_vals = np.linspace(0.75, 1.25, 33)"
   ]
  },
  {
   "cell_type": "markdown",
   "metadata": {
    "lines_to_next_cell": 2
   },
   "source": [
    "We measure the success of the transfer via the \"population error\", i.e., the\n",
    "deviation from 1.0 of the population in state $\\ket{3}$ at final time $T$.\n",
    "\n",
    "\n",
    "\n",
    "\n",
    "\n",
    "\n"
   ]
  },
  {
   "cell_type": "code",
   "execution_count": 17,
   "metadata": {
    "ExecuteTime": {
     "end_time": "2020-03-22T05:01:30.153375Z",
     "start_time": "2020-03-22T05:01:30.144877Z"
    },
    "execution": {
     "iopub.execute_input": "2024-06-03T14:25:45.462713Z",
     "iopub.status.busy": "2024-06-03T14:25:45.462451Z",
     "iopub.status.idle": "2024-06-03T14:25:45.469328Z",
     "shell.execute_reply": "2024-06-03T14:25:45.468323Z"
    }
   },
   "outputs": [],
   "source": [
    "def pop_error(obj, mu):\n",
    "    res = obj.mesolve(tlist, H=scale_control(obj.H, mu=mu), e_ops=[proj3])\n",
    "    return 1 - res.expect[0][-1]"
   ]
  },
  {
   "cell_type": "code",
   "execution_count": 18,
   "metadata": {
    "ExecuteTime": {
     "end_time": "2020-03-22T05:01:40.680753Z",
     "start_time": "2020-03-22T05:01:30.156668Z"
    },
    "execution": {
     "iopub.execute_input": "2024-06-03T14:25:45.473923Z",
     "iopub.status.busy": "2024-06-03T14:25:45.473631Z",
     "iopub.status.idle": "2024-06-03T14:25:47.602503Z",
     "shell.execute_reply": "2024-06-03T14:25:47.602171Z"
    },
    "lines_to_next_cell": 2
   },
   "outputs": [],
   "source": [
    "def _f(mu):\n",
    "    return pop_error(opt_result_unperturbed.optimized_objectives[0], mu=mu)\n",
    "\n",
    "\n",
    "pop_errors_norobust = [_f(mu) for mu in mu_vals]"
   ]
  },
  {
   "cell_type": "code",
   "execution_count": 19,
   "metadata": {
    "ExecuteTime": {
     "end_time": "2020-03-22T05:01:40.693446Z",
     "start_time": "2020-03-22T05:01:40.684478Z"
    },
    "execution": {
     "iopub.execute_input": "2024-06-03T14:25:47.604288Z",
     "iopub.status.busy": "2024-06-03T14:25:47.604178Z",
     "iopub.status.idle": "2024-06-03T14:25:47.606958Z",
     "shell.execute_reply": "2024-06-03T14:25:47.606628Z"
    }
   },
   "outputs": [],
   "source": [
    "def plot_robustness(mu_vals, pop_errors, pop_errors0=None):\n",
    "    fig, ax = plt.subplots()\n",
    "    ax.plot(mu_vals, pop_errors, label='1')\n",
    "    if pop_errors0 is not None:\n",
    "        ax.set_prop_cycle(None)  # reset colors\n",
    "        if isinstance(pop_errors0, list):\n",
    "            for (i, pop_errors_prev) in enumerate(pop_errors0):\n",
    "                ax.plot(\n",
    "                    mu_vals, pop_errors_prev, ls='dotted', label=(\"%d\" % (-i))\n",
    "                )\n",
    "        else:\n",
    "            ax.plot(mu_vals, pop_errors0, ls='dotted', label='0')\n",
    "    ax.set_xlabel(\"relative coupling strength\")\n",
    "    ax.set_ylabel(r\"$1 - \\vert \\langle \\Psi \\vert 3 \\rangle \\vert^2$\")\n",
    "    ax.axvspan(0.9, 1.1, alpha=0.25, color='red')\n",
    "    ax.set_yscale('log')\n",
    "    if pop_errors0 is not None:\n",
    "        ax.legend()\n",
    "    plt.show(fig)"
   ]
  },
  {
   "cell_type": "code",
   "execution_count": 20,
   "metadata": {
    "ExecuteTime": {
     "end_time": "2020-03-22T05:01:41.453727Z",
     "start_time": "2020-03-22T05:01:40.696343Z"
    },
    "execution": {
     "iopub.execute_input": "2024-06-03T14:25:47.608495Z",
     "iopub.status.busy": "2024-06-03T14:25:47.608382Z",
     "iopub.status.idle": "2024-06-03T14:25:47.795133Z",
     "shell.execute_reply": "2024-06-03T14:25:47.794824Z"
    }
   },
   "outputs": [
    {
     "data": {
      "image/png": "[encoded data removed]",
      "text/plain": [
       "<Figure size 640x480 with 1 Axes>"
      ]
     },
     "metadata": {},
     "output_type": "display_data"
    }
   ],
   "source": [
    "plot_robustness(mu_vals, pop_errors_norobust)"
   ]
  },
  {
   "cell_type": "markdown",
   "metadata": {},
   "source": [
    "The plot shows that as the pulse amplitude deviates from the optimal value, the\n",
    "error rises quickly: our previous optimization result is not robust.\n",
    "\n",
    "The highlighted region of ±10% is our \"region of interest\" within\n",
    "which we would like the control to be robust by applying optimal control."
   ]
  },
  {
   "cell_type": "markdown",
   "metadata": {},
   "source": [
    "## Setting the ensemble objectives"
   ]
  },
  {
   "cell_type": "markdown",
   "metadata": {},
   "source": [
    "They central idea of optimizing for robustness is to take multiple copies of\n",
    "the Hamiltonian, sampling over the space of variations to which would\n",
    "like to be robust, and optimize over the average of this ensemble.\n",
    "\n",
    "Here, we sample 5 values of $\\mu$ (including the unperturbed $\\mu=1$) in the\n",
    "region of interest, $\\mu \\in [0.9, 1.1]$."
   ]
  },
  {
   "cell_type": "code",
   "execution_count": 21,
   "metadata": {
    "ExecuteTime": {
     "end_time": "2020-03-22T05:01:41.462459Z",
     "start_time": "2020-03-22T05:01:41.456749Z"
    },
    "execution": {
     "iopub.execute_input": "2024-06-03T14:25:47.796847Z",
     "iopub.status.busy": "2024-06-03T14:25:47.796728Z",
     "iopub.status.idle": "2024-06-03T14:25:47.798557Z",
     "shell.execute_reply": "2024-06-03T14:25:47.798264Z"
    }
   },
   "outputs": [],
   "source": [
    "ensemble_mu = [0.9, 0.95, 1.0, 1.05, 1.1]"
   ]
  },
  {
   "cell_type": "markdown",
   "metadata": {},
   "source": [
    "The corresponding Hamiltonians are"
   ]
  },
  {
   "cell_type": "code",
   "execution_count": 22,
   "metadata": {
    "ExecuteTime": {
     "end_time": "2020-03-22T05:01:41.487262Z",
     "start_time": "2020-03-22T05:01:41.474312Z"
    },
    "execution": {
     "iopub.execute_input": "2024-06-03T14:25:47.800022Z",
     "iopub.status.busy": "2024-06-03T14:25:47.799922Z",
     "iopub.status.idle": "2024-06-03T14:25:47.802170Z",
     "shell.execute_reply": "2024-06-03T14:25:47.801873Z"
    }
   },
   "outputs": [],
   "source": [
    "ham_ensemble = [scale_control(objective.H, mu=mu) for mu in ensemble_mu]"
   ]
  },
  {
   "cell_type": "markdown",
   "metadata": {},
   "source": [
    "The `krotov.objectives.ensemble_objectives` extends the original objective of a\n",
    "single unperturbed state-to-state transition with one additional objective for\n",
    "each ensemble Hamiltonian for $\\mu \\neq 1$:"
   ]
  },
  {
   "cell_type": "code",
   "execution_count": 23,
   "metadata": {
    "ExecuteTime": {
     "end_time": "2020-03-22T05:01:41.504002Z",
     "start_time": "2020-03-22T05:01:41.492908Z"
    },
    "execution": {
     "iopub.execute_input": "2024-06-03T14:25:47.803857Z",
     "iopub.status.busy": "2024-06-03T14:25:47.803723Z",
     "iopub.status.idle": "2024-06-03T14:25:47.806284Z",
     "shell.execute_reply": "2024-06-03T14:25:47.806018Z"
    }
   },
   "outputs": [
    {
     "data": {
      "text/plain": [
       "[Objective[|Ψ₀(3)⟩ to |Ψ₁(3)⟩ via [H₀[3,3], [H₅[3,3], u₁(t)], [H₆[3,3], u₂(t)], [H₇[3,3], u₃(t)], [H₈[3,3], u₄(t)]]],\n",
       " Objective[|Ψ₀(3)⟩ to |Ψ₁(3)⟩ via [H₀[3,3], [H₉[3,3], u₁(t)], [H₁₀[3,3], u₂(t)], [H₁₁[3,3], u₃(t)], [H₁₂[3,3], u₄(t)]]],\n",
       " Objective[|Ψ₀(3)⟩ to |Ψ₁(3)⟩ via [H₀[3,3], [H₁₃[3,3], u₁(t)], [H₁₄[3,3], u₂(t)], [H₁₅[3,3], u₃(t)], [H₁₆[3,3], u₄(t)]]],\n",
       " Objective[|Ψ₀(3)⟩ to |Ψ₁(3)⟩ via [H₀[3,3], [H₁₇[3,3], u₁(t)], [H₁₈[3,3], u₂(t)], [H₁₉[3,3], u₃(t)], [H₂₀[3,3], u₄(t)]]],\n",
       " Objective[|Ψ₀(3)⟩ to |Ψ₁(3)⟩ via [H₀[3,3], [H₂₁[3,3], u₁(t)], [H₂₂[3,3], u₂(t)], [H₂₃[3,3], u₃(t)], [H₂₄[3,3], u₄(t)]]]]"
      ]
     },
     "execution_count": 23,
     "metadata": {},
     "output_type": "execute_result"
    }
   ],
   "source": [
    "ensemble_objectives = krotov.objectives.ensemble_objectives(\n",
    "    objectives, ham_ensemble, keep_original_objectives=False,\n",
    ")\n",
    "ensemble_objectives"
   ]
  },
  {
   "cell_type": "markdown",
   "metadata": {},
   "source": [
    "It is important that all five objectives reference the same four control\n",
    "pulses, as is the case here."
   ]
  },
  {
   "cell_type": "markdown",
   "metadata": {},
   "source": [
    "## Optimize"
   ]
  },
  {
   "cell_type": "markdown",
   "metadata": {},
   "source": [
    "We use the same update shape $S(t)$ and $\\lambda_a$ value as in the original optimization:"
   ]
  },
  {
   "cell_type": "code",
   "execution_count": 24,
   "metadata": {
    "ExecuteTime": {
     "end_time": "2020-03-22T05:01:41.515808Z",
     "start_time": "2020-03-22T05:01:41.506536Z"
    },
    "execution": {
     "iopub.execute_input": "2024-06-03T14:25:47.807661Z",
     "iopub.status.busy": "2024-06-03T14:25:47.807536Z",
     "iopub.status.idle": "2024-06-03T14:25:47.809769Z",
     "shell.execute_reply": "2024-06-03T14:25:47.809484Z"
    }
   },
   "outputs": [],
   "source": [
    "def S(t):\n",
    "    \"\"\"Scales the Krotov methods update of the pulse value at the time t\"\"\"\n",
    "    return krotov.shapes.flattop(t, 0.0, 5, 0.3, func='sinsq')\n",
    "\n",
    "\n",
    "λ = 0.5\n",
    "\n",
    "pulse_options = {\n",
    "    H[1][1]: dict(lambda_a=λ, update_shape=S),\n",
    "    H[2][1]: dict(lambda_a=λ, update_shape=S),\n",
    "    H[3][1]: dict(lambda_a=λ, update_shape=S),\n",
    "    H[4][1]: dict(lambda_a=λ, update_shape=S),\n",
    "}"
   ]
  },
  {
   "cell_type": "markdown",
   "metadata": {
    "lines_to_next_cell": 2
   },
   "source": [
    "It will be interesting to see how the optimization progresses for each\n",
    "individual element of the ensemble. Thus, we write an `info_hook` routine that\n",
    "prints out a tabular overview of $1 - \\Re\\Braket{\\Psi(T)}{3}_{\\Op{H}_i}$ for\n",
    "all $\\Op{H}_i$ in the ensemble, as well as their average (the total functional\n",
    "$J_T$ that is being minimized)\n",
    "\n",
    "\n",
    "\n",
    "\n",
    "\n",
    "\n",
    "\n"
   ]
  },
  {
   "cell_type": "code",
   "execution_count": 25,
   "metadata": {
    "ExecuteTime": {
     "end_time": "2020-03-22T05:01:41.526072Z",
     "start_time": "2020-03-22T05:01:41.518139Z"
    },
    "execution": {
     "iopub.execute_input": "2024-06-03T14:25:47.811207Z",
     "iopub.status.busy": "2024-06-03T14:25:47.811109Z",
     "iopub.status.idle": "2024-06-03T14:25:47.813402Z",
     "shell.execute_reply": "2024-06-03T14:25:47.813115Z"
    }
   },
   "outputs": [],
   "source": [
    "def print_J_T_per_target(**kwargs):\n",
    "    iteration = kwargs['iteration']\n",
    "    N = len(ensemble_mu)\n",
    "    if iteration == 0:\n",
    "        print(\n",
    "            \"iteration \"\n",
    "            + \"%11s \" % \"J_T(avg)\"\n",
    "            + \" \".join([(\"J_T(μ=%.2f)\" % μ) for μ in ensemble_mu])\n",
    "        )\n",
    "    J_T_vals = 1 - kwargs['tau_vals'].real\n",
    "    J_T = np.sum(J_T_vals) / N\n",
    "    print(\n",
    "        (\"%9d \" % iteration)\n",
    "        + (\"%11.2e \" % J_T)\n",
    "        + \" \".join([(\"%11.2e\" % v) for v in J_T_vals])\n",
    "    )"
   ]
  },
  {
   "cell_type": "markdown",
   "metadata": {},
   "source": [
    "We'll also want to look at the output of ``krotov.info_hooks.print_table``, but\n",
    "in order to keep the output orderly, we will write that information to a file\n",
    "`ensemble_opt.log`."
   ]
  },
  {
   "cell_type": "code",
   "execution_count": 26,
   "metadata": {
    "ExecuteTime": {
     "end_time": "2020-03-22T05:01:41.534779Z",
     "start_time": "2020-03-22T05:01:41.528504Z"
    },
    "execution": {
     "iopub.execute_input": "2024-06-03T14:25:47.814998Z",
     "iopub.status.busy": "2024-06-03T14:25:47.814872Z",
     "iopub.status.idle": "2024-06-03T14:25:47.816773Z",
     "shell.execute_reply": "2024-06-03T14:25:47.816511Z"
    }
   },
   "outputs": [],
   "source": [
    "log_fh = open(\"ensemble_opt.log\", \"w\", encoding=\"utf-8\")"
   ]
  },
  {
   "cell_type": "markdown",
   "metadata": {},
   "source": [
    "The optimization starts for the same guess pulses as the original [Optimization\n",
    "of a State-to-State Transfer in a Lambda System in the\n",
    "RWA](02_example_lambda_system_rwa_complex_pulse.ipynb). Generally, for a\n",
    "robustness ensemble optimization, this will yield better results than trying to\n",
    "take the optimized pulses for the unperturbed system as a guess.\n"
   ]
  },
  {
   "cell_type": "code",
   "execution_count": 27,
   "metadata": {
    "ExecuteTime": {
     "end_time": "2020-03-22T05:06:03.283073Z",
     "start_time": "2020-03-22T05:01:41.538943Z"
    },
    "attributes": {
     "classes": [],
     "id": "",
     "n": "16"
    },
    "execution": {
     "iopub.execute_input": "2024-06-03T14:25:47.818298Z",
     "iopub.status.busy": "2024-06-03T14:25:47.818156Z",
     "iopub.status.idle": "2024-06-03T14:27:32.197787Z",
     "shell.execute_reply": "2024-06-03T14:27:32.197474Z"
    }
   },
   "outputs": [
    {
     "name": "stdout",
     "output_type": "stream",
     "text": [
      "iteration    J_T(avg) J_T(μ=0.90) J_T(μ=0.95) J_T(μ=1.00) J_T(μ=1.05) J_T(μ=1.10)\n",
      "        0    1.01e+00    1.01e+00    1.01e+00    1.01e+00    1.01e+00    1.01e+00\n",
      "        1    6.79e-01    6.94e-01    6.83e-01    6.75e-01    6.71e-01    6.71e-01\n",
      "        2    4.14e-01    4.40e-01    4.20e-01    4.07e-01    4.00e-01    4.00e-01\n",
      "        3    2.36e-01    2.68e-01    2.43e-01    2.27e-01    2.20e-01    2.23e-01\n",
      "        4    1.32e-01    1.63e-01    1.37e-01    1.21e-01    1.16e-01    1.22e-01\n",
      "        5    7.46e-02    1.04e-01    7.78e-02    6.29e-02    5.98e-02    6.86e-02\n",
      "        6    4.46e-02    7.13e-02    4.58e-02    3.23e-02    3.12e-02    4.26e-02\n",
      "        7    2.92e-02    5.32e-02    2.88e-02    1.66e-02    1.72e-02    3.04e-02\n",
      "        8    2.14e-02    4.32e-02    1.96e-02    8.59e-03    1.04e-02    2.50e-02\n",
      "        9    1.73e-02    3.74e-02    1.46e-02    4.48e-03    7.25e-03    2.28e-02\n",
      "       10    1.52e-02    3.41e-02    1.19e-02    2.37e-03    5.83e-03    2.21e-02\n",
      "       11    1.42e-02    3.20e-02    1.03e-02    1.29e-03    5.23e-03    2.20e-02\n",
      "       12    1.36e-02    3.07e-02    9.36e-03    7.19e-04    5.00e-03    2.20e-02\n"
     ]
    }
   ],
   "source": [
    "opt_result = krotov.optimize_pulses(\n",
    "    ensemble_objectives,\n",
    "    pulse_options,\n",
    "    tlist,\n",
    "    propagator=krotov.propagators.expm,\n",
    "    chi_constructor=krotov.functionals.chis_re,\n",
    "    info_hook=krotov.info_hooks.chain(\n",
    "        print_J_T_per_target,\n",
    "        krotov.info_hooks.print_table(\n",
    "            J_T=krotov.functionals.J_T_re, out=log_fh\n",
    "        ),\n",
    "    ),\n",
    "    check_convergence=krotov.convergence.Or(\n",
    "        krotov.convergence.value_below(1e-3, name='J_T'),\n",
    "        krotov.convergence.check_monotonic_error,\n",
    "    ),\n",
    "    iter_stop=12,\n",
    ")"
   ]
  },
  {
   "cell_type": "markdown",
   "metadata": {},
   "source": [
    "After twelve iterations (which were sufficient to produce an error $<10^{-3}$\n",
    "in the original optimization), we find the average error over the ensemble to\n",
    "be still above $>10^{-2}$. However, the error for $\\mu = 1$ is only *slightly*\n",
    "larger than in the original optimization; the lack of success is entirely due\n",
    "to the large error for the other elements of the ensemble for $\\mu \\neq 1$.\n",
    "Achieving robustness is hard!\n",
    "\n",
    "We continue the optimization until the *average* error falls below $10^{-3}$:\n"
   ]
  },
  {
   "cell_type": "code",
   "execution_count": 28,
   "metadata": {
    "ExecuteTime": {
     "end_time": "2020-03-22T05:06:03.339376Z",
     "start_time": "2020-03-22T05:06:03.287117Z"
    },
    "execution": {
     "iopub.execute_input": "2024-06-03T14:27:32.199381Z",
     "iopub.status.busy": "2024-06-03T14:27:32.199290Z",
     "iopub.status.idle": "2024-06-03T14:27:32.204322Z",
     "shell.execute_reply": "2024-06-03T14:27:32.204085Z"
    }
   },
   "outputs": [
    {
     "name": "stdout",
     "output_type": "stream",
     "text": [
      "iteration    J_T(avg) J_T(μ=0.90) J_T(μ=0.95) J_T(μ=1.00) J_T(μ=1.05) J_T(μ=1.10)\n",
      "        0    1.36e-02    3.07e-02    9.36e-03    7.19e-04    5.00e-03    2.20e-02\n",
      "       13    1.32e-02    2.99e-02    8.80e-03    4.20e-04    4.94e-03    2.22e-02\n",
      "       14    1.30e-02    2.93e-02    8.44e-03    2.60e-04    4.94e-03    2.23e-02\n",
      "       15    1.29e-02    2.89e-02    8.21e-03    1.74e-04    4.96e-03    2.23e-02\n",
      "       16    1.28e-02    2.86e-02    8.05e-03    1.26e-04    4.98e-03    2.24e-02\n",
      "       17    1.28e-02    2.84e-02    7.94e-03    1.00e-04    5.00e-03    2.24e-02\n",
      "       18    1.27e-02    2.82e-02    7.85e-03    8.59e-05    5.01e-03    2.24e-02\n",
      "       19    1.26e-02    2.80e-02    7.79e-03    7.83e-05    5.01e-03    2.23e-02\n",
      "       20    1.26e-02    2.79e-02    7.74e-03    7.43e-05    5.01e-03    2.23e-02\n",
      "       21    1.26e-02    2.78e-02    7.70e-03    7.25e-05    5.00e-03    2.22e-02\n",
      "       22    1.25e-02    2.77e-02    7.66e-03    7.20e-05    4.99e-03    2.22e-02\n",
      "       23    1.25e-02    2.76e-02    7.63e-03    7.21e-05    4.98e-03    2.21e-02\n",
      "       24    1.24e-02    2.75e-02    7.60e-03    7.26e-05    4.97e-03    2.20e-02\n",
      "       25    1.24e-02    2.74e-02    7.58e-03    7.33e-05    4.95e-03    2.19e-02\n",
      "       26    1.23e-02    2.73e-02    7.55e-03    7.40e-05    4.94e-03    2.19e-02\n",
      "       27    1.23e-02    2.72e-02    7.53e-03    7.48e-05    4.92e-03    2.18e-02\n",
      "       28    1.23e-02    2.71e-02    7.50e-03    7.55e-05    4.91e-03    2.17e-02\n",
      "       29    1.22e-02    2.71e-02    7.48e-03    7.62e-05    4.89e-03    2.16e-02\n",
      "       30    1.22e-02    2.70e-02    7.46e-03    7.69e-05    4.88e-03    2.16e-02\n",
      "       31    1.22e-02    2.69e-02    7.44e-03    7.75e-05    4.86e-03    2.15e-02\n",
      "       32    1.21e-02    2.68e-02    7.42e-03    7.80e-05    4.85e-03    2.14e-02\n",
      "       33    1.21e-02    2.68e-02    7.39e-03    7.85e-05    4.83e-03    2.13e-02\n",
      "       34    1.20e-02    2.67e-02    7.37e-03    7.89e-05    4.82e-03    2.13e-02\n",
      "       35    1.20e-02    2.66e-02    7.35e-03    7.93e-05    4.80e-03    2.12e-02\n",
      "       36    1.20e-02    2.65e-02    7.33e-03    7.97e-05    4.79e-03    2.11e-02\n",
      "       37    1.19e-02    2.65e-02    7.31e-03    8.00e-05    4.77e-03    2.11e-02\n",
      "       38    1.19e-02    2.64e-02    7.29e-03    8.03e-05    4.75e-03    2.10e-02\n",
      "       39    1.19e-02    2.63e-02    7.27e-03    8.06e-05    4.74e-03    2.09e-02\n",
      "       40    1.18e-02    2.62e-02    7.25e-03    8.09e-05    4.73e-03    2.08e-02\n",
      "       41    1.18e-02    2.62e-02    7.23e-03    8.12e-05    4.71e-03    2.08e-02\n",
      "       42    1.18e-02    2.61e-02    7.21e-03    8.14e-05    4.70e-03    2.07e-02\n",
      "       43    1.17e-02    2.60e-02    7.19e-03    8.16e-05    4.68e-03    2.06e-02\n",
      "       44    1.17e-02    2.60e-02    7.17e-03    8.18e-05    4.67e-03    2.06e-02\n",
      "       45    1.17e-02    2.59e-02    7.15e-03    8.20e-05    4.65e-03    2.05e-02\n",
      "       46    1.16e-02    2.58e-02    7.13e-03    8.22e-05    4.64e-03    2.04e-02\n",
      "       47    1.16e-02    2.58e-02    7.11e-03    8.24e-05    4.63e-03    2.04e-02\n",
      "       48    1.16e-02    2.57e-02    7.09e-03    8.26e-05    4.61e-03    2.03e-02\n",
      "       49    1.15e-02    2.56e-02    7.07e-03    8.28e-05    4.60e-03    2.03e-02\n",
      "       50    1.15e-02    2.56e-02    7.05e-03    8.30e-05    4.58e-03    2.02e-02\n",
      "       51    1.15e-02    2.55e-02    7.03e-03    8.32e-05    4.57e-03    2.01e-02\n",
      "       52    1.14e-02    2.54e-02    7.01e-03    8.33e-05    4.56e-03    2.01e-02\n",
      "       53    1.14e-02    2.54e-02    7.00e-03    8.35e-05    4.54e-03    2.00e-02\n",
      "       54    1.14e-02    2.53e-02    6.98e-03    8.37e-05    4.53e-03    1.99e-02\n",
      "       55    1.13e-02    2.52e-02    6.96e-03    8.39e-05    4.52e-03    1.99e-02\n",
      "       56    1.13e-02    2.52e-02    6.94e-03    8.40e-05    4.51e-03    1.98e-02\n",
      "       57    1.13e-02    2.51e-02    6.92e-03    8.42e-05    4.49e-03    1.98e-02\n",
      "       58    1.12e-02    2.50e-02    6.91e-03    8.44e-05    4.48e-03    1.97e-02\n",
      "       59    1.12e-02    2.50e-02    6.89e-03    8.45e-05    4.47e-03    1.97e-02\n",
      "       60    1.12e-02    2.49e-02    6.87e-03    8.47e-05    4.46e-03    1.96e-02\n",
      "       61    1.12e-02    2.49e-02    6.85e-03    8.48e-05    4.44e-03    1.95e-02\n",
      "       62    1.11e-02    2.48e-02    6.84e-03    8.50e-05    4.43e-03    1.95e-02\n",
      "       63    1.11e-02    2.47e-02    6.82e-03    8.51e-05    4.42e-03    1.94e-02\n",
      "       64    1.11e-02    2.47e-02    6.80e-03    8.53e-05    4.41e-03    1.94e-02\n",
      "       65    1.10e-02    2.46e-02    6.79e-03    8.55e-05    4.40e-03    1.93e-02\n",
      "       66    1.10e-02    2.46e-02    6.77e-03    8.56e-05    4.38e-03    1.93e-02\n",
      "       67    1.10e-02    2.45e-02    6.75e-03    8.58e-05    4.37e-03    1.92e-02\n",
      "       68    1.10e-02    2.45e-02    6.74e-03    8.59e-05    4.36e-03    1.92e-02\n",
      "       69    1.09e-02    2.44e-02    6.72e-03    8.61e-05    4.35e-03    1.91e-02\n",
      "       70    1.09e-02    2.43e-02    6.70e-03    8.62e-05    4.34e-03    1.91e-02\n",
      "       71    1.09e-02    2.43e-02    6.69e-03    8.64e-05    4.33e-03    1.90e-02\n",
      "       72    1.08e-02    2.42e-02    6.67e-03    8.65e-05    4.32e-03    1.89e-02\n",
      "       73    1.08e-02    2.42e-02    6.66e-03    8.66e-05    4.30e-03    1.89e-02\n",
      "       74    1.08e-02    2.41e-02    6.64e-03    8.68e-05    4.29e-03    1.88e-02\n",
      "       75    1.08e-02    2.41e-02    6.62e-03    8.69e-05    4.28e-03    1.88e-02\n",
      "       76    1.07e-02    2.40e-02    6.61e-03    8.70e-05    4.27e-03    1.87e-02\n",
      "       77    1.07e-02    2.40e-02    6.59e-03    8.72e-05    4.26e-03    1.87e-02\n",
      "       78    1.07e-02    2.39e-02    6.58e-03    8.73e-05    4.25e-03    1.86e-02\n",
      "       79    1.07e-02    2.38e-02    6.56e-03    8.74e-05    4.24e-03    1.86e-02\n",
      "       80    1.06e-02    2.38e-02    6.55e-03    8.76e-05    4.23e-03    1.86e-02\n",
      "       81    1.06e-02    2.37e-02    6.53e-03    8.77e-05    4.22e-03    1.85e-02\n",
      "       82    1.06e-02    2.37e-02    6.52e-03    8.78e-05    4.21e-03    1.85e-02\n",
      "       83    1.06e-02    2.36e-02    6.50e-03    8.79e-05    4.20e-03    1.84e-02\n",
      "       84    1.05e-02    2.36e-02    6.49e-03    8.80e-05    4.19e-03    1.84e-02\n",
      "       85    1.05e-02    2.35e-02    6.47e-03    8.82e-05    4.18e-03    1.83e-02\n",
      "       86    1.05e-02    2.35e-02    6.46e-03    8.83e-05    4.17e-03    1.83e-02\n",
      "       87    1.05e-02    2.34e-02    6.45e-03    8.84e-05    4.16e-03    1.82e-02\n",
      "       88    1.04e-02    2.34e-02    6.43e-03    8.85e-05    4.15e-03    1.82e-02\n",
      "       89    1.04e-02    2.33e-02    6.42e-03    8.86e-05    4.14e-03    1.81e-02\n",
      "       90    1.04e-02    2.33e-02    6.40e-03    8.87e-05    4.13e-03    1.81e-02\n",
      "       91    1.04e-02    2.32e-02    6.39e-03    8.88e-05    4.12e-03    1.80e-02\n",
      "       92    1.04e-02    2.32e-02    6.38e-03    8.89e-05    4.11e-03    1.80e-02\n",
      "       93    1.03e-02    2.31e-02    6.36e-03    8.90e-05    4.10e-03    1.80e-02\n",
      "       94    1.03e-02    2.31e-02    6.35e-03    8.91e-05    4.09e-03    1.79e-02\n",
      "       95    1.03e-02    2.30e-02    6.33e-03    8.92e-05    4.08e-03    1.79e-02\n",
      "       96    1.03e-02    2.30e-02    6.32e-03    8.92e-05    4.07e-03    1.78e-02\n",
      "       97    1.02e-02    2.29e-02    6.31e-03    8.93e-05    4.06e-03    1.78e-02\n",
      "       98    1.02e-02    2.29e-02    6.29e-03    8.94e-05    4.06e-03    1.77e-02\n",
      "       99    1.02e-02    2.29e-02    6.28e-03    8.95e-05    4.05e-03    1.77e-02\n",
      "      100    1.02e-02    2.28e-02    6.27e-03    8.96e-05    4.04e-03    1.77e-02\n",
      "      101    1.02e-02    2.28e-02    6.25e-03    8.96e-05    4.03e-03    1.76e-02\n",
      "      102    1.01e-02    2.27e-02    6.24e-03    8.97e-05    4.02e-03    1.76e-02\n",
      "      103    1.01e-02    2.27e-02    6.23e-03    8.98e-05    4.01e-03    1.75e-02\n",
      "      104    1.01e-02    2.26e-02    6.21e-03    8.98e-05    4.00e-03    1.75e-02\n",
      "      105    1.01e-02    2.26e-02    6.20e-03    8.99e-05    3.99e-03    1.75e-02\n",
      "      106    1.00e-02    2.25e-02    6.19e-03    8.99e-05    3.99e-03    1.74e-02\n",
      "      107    1.00e-02    2.25e-02    6.18e-03    9.00e-05    3.98e-03    1.74e-02\n",
      "      108    1.00e-02    2.24e-02    6.16e-03    9.00e-05    3.97e-03    1.73e-02\n",
      "      109    9.98e-03    2.24e-02    6.15e-03    9.01e-05    3.96e-03    1.73e-02\n",
      "      110    9.96e-03    2.24e-02    6.14e-03    9.01e-05    3.95e-03    1.73e-02\n",
      "      111    9.94e-03    2.23e-02    6.12e-03    9.02e-05    3.94e-03    1.72e-02\n",
      "      112    9.92e-03    2.23e-02    6.11e-03    9.02e-05    3.94e-03    1.72e-02\n",
      "      113    9.90e-03    2.22e-02    6.10e-03    9.02e-05    3.93e-03    1.72e-02\n",
      "      114    9.88e-03    2.22e-02    6.09e-03    9.03e-05    3.92e-03    1.71e-02\n",
      "      115    9.86e-03    2.21e-02    6.07e-03    9.03e-05    3.91e-03    1.71e-02\n",
      "      116    9.84e-03    2.21e-02    6.06e-03    9.03e-05    3.90e-03    1.70e-02\n",
      "      117    9.82e-03    2.21e-02    6.05e-03    9.04e-05    3.90e-03    1.70e-02\n",
      "      118    9.80e-03    2.20e-02    6.04e-03    9.04e-05    3.89e-03    1.70e-02\n",
      "      119    9.78e-03    2.20e-02    6.03e-03    9.04e-05    3.88e-03    1.69e-02\n",
      "      120    9.76e-03    2.19e-02    6.01e-03    9.04e-05    3.87e-03    1.69e-02\n",
      "      121    9.74e-03    2.19e-02    6.00e-03    9.04e-05    3.87e-03    1.69e-02\n",
      "      122    9.72e-03    2.18e-02    5.99e-03    9.04e-05    3.86e-03    1.68e-02\n",
      "      123    9.70e-03    2.18e-02    5.98e-03    9.04e-05    3.85e-03    1.68e-02\n",
      "      124    9.68e-03    2.18e-02    5.97e-03    9.04e-05    3.84e-03    1.68e-02\n",
      "      125    9.66e-03    2.17e-02    5.95e-03    9.04e-05    3.84e-03    1.67e-02\n",
      "      126    9.64e-03    2.17e-02    5.94e-03    9.04e-05    3.83e-03    1.67e-02\n",
      "      127    9.63e-03    2.16e-02    5.93e-03    9.04e-05    3.82e-03    1.67e-02\n",
      "      128    9.61e-03    2.16e-02    5.92e-03    9.04e-05    3.81e-03    1.66e-02\n",
      "      129    9.59e-03    2.16e-02    5.91e-03    9.04e-05    3.81e-03    1.66e-02\n",
      "      130    9.57e-03    2.15e-02    5.89e-03    9.04e-05    3.80e-03    1.65e-02\n",
      "      131    9.55e-03    2.15e-02    5.88e-03    9.04e-05    3.79e-03    1.65e-02\n",
      "      132    9.53e-03    2.14e-02    5.87e-03    9.04e-05    3.78e-03    1.65e-02\n",
      "      133    9.51e-03    2.14e-02    5.86e-03    9.03e-05    3.78e-03    1.64e-02\n",
      "      134    9.50e-03    2.14e-02    5.85e-03    9.03e-05    3.77e-03    1.64e-02\n",
      "      135    9.48e-03    2.13e-02    5.84e-03    9.03e-05    3.76e-03    1.64e-02\n",
      "      136    9.46e-03    2.13e-02    5.82e-03    9.03e-05    3.76e-03    1.63e-02\n",
      "      137    9.44e-03    2.12e-02    5.81e-03    9.02e-05    3.75e-03    1.63e-02\n",
      "      138    9.42e-03    2.12e-02    5.80e-03    9.02e-05    3.74e-03    1.63e-02\n",
      "      139    9.40e-03    2.12e-02    5.79e-03    9.02e-05    3.74e-03    1.62e-02\n",
      "      140    9.39e-03    2.11e-02    5.78e-03    9.01e-05    3.73e-03    1.62e-02\n",
      "      141    9.37e-03    2.11e-02    5.77e-03    9.01e-05    3.72e-03    1.62e-02\n",
      "      142    9.35e-03    2.10e-02    5.76e-03    9.00e-05    3.71e-03    1.61e-02\n",
      "      143    9.33e-03    2.10e-02    5.75e-03    9.00e-05    3.71e-03    1.61e-02\n",
      "      144    9.31e-03    2.10e-02    5.73e-03    8.99e-05    3.70e-03    1.61e-02\n",
      "      145    9.30e-03    2.09e-02    5.72e-03    8.99e-05    3.69e-03    1.60e-02\n",
      "      146    9.28e-03    2.09e-02    5.71e-03    8.98e-05    3.69e-03    1.60e-02\n",
      "      147    9.26e-03    2.09e-02    5.70e-03    8.98e-05    3.68e-03    1.60e-02\n",
      "      148    9.24e-03    2.08e-02    5.69e-03    8.97e-05    3.67e-03    1.60e-02\n",
      "      149    9.23e-03    2.08e-02    5.68e-03    8.96e-05    3.67e-03    1.59e-02\n",
      "      150    9.21e-03    2.07e-02    5.67e-03    8.96e-05    3.66e-03    1.59e-02\n",
      "      151    9.19e-03    2.07e-02    5.66e-03    8.95e-05    3.65e-03    1.59e-02\n",
      "      152    9.17e-03    2.07e-02    5.64e-03    8.94e-05    3.65e-03    1.58e-02\n",
      "      153    9.16e-03    2.06e-02    5.63e-03    8.94e-05    3.64e-03    1.58e-02\n",
      "      154    9.14e-03    2.06e-02    5.62e-03    8.93e-05    3.64e-03    1.58e-02\n",
      "      155    9.12e-03    2.06e-02    5.61e-03    8.92e-05    3.63e-03    1.57e-02\n",
      "      156    9.11e-03    2.05e-02    5.60e-03    8.91e-05    3.62e-03    1.57e-02\n",
      "      157    9.09e-03    2.05e-02    5.59e-03    8.91e-05    3.62e-03    1.57e-02\n",
      "      158    9.07e-03    2.04e-02    5.58e-03    8.90e-05    3.61e-03    1.56e-02\n",
      "      159    9.05e-03    2.04e-02    5.57e-03    8.89e-05    3.60e-03    1.56e-02\n",
      "      160    9.04e-03    2.04e-02    5.56e-03    8.88e-05    3.60e-03    1.56e-02\n",
      "      161    9.02e-03    2.03e-02    5.54e-03    8.87e-05    3.59e-03    1.55e-02\n",
      "      162    9.00e-03    2.03e-02    5.53e-03    8.86e-05    3.58e-03    1.55e-02\n",
      "      163    8.99e-03    2.03e-02    5.52e-03    8.85e-05    3.58e-03    1.55e-02\n",
      "      164    8.97e-03    2.02e-02    5.51e-03    8.84e-05    3.57e-03    1.54e-02\n",
      "      165    8.95e-03    2.02e-02    5.50e-03    8.83e-05    3.57e-03    1.54e-02\n",
      "      166    8.93e-03    2.01e-02    5.49e-03    8.82e-05    3.56e-03    1.54e-02\n",
      "      167    8.92e-03    2.01e-02    5.48e-03    8.81e-05    3.55e-03    1.54e-02\n",
      "      168    8.90e-03    2.01e-02    5.47e-03    8.80e-05    3.55e-03    1.53e-02\n",
      "      169    8.88e-03    2.00e-02    5.46e-03    8.79e-05    3.54e-03    1.53e-02\n",
      "      170    8.87e-03    2.00e-02    5.45e-03    8.78e-05    3.53e-03    1.53e-02\n",
      "      171    8.85e-03    2.00e-02    5.44e-03    8.77e-05    3.53e-03    1.52e-02\n",
      "      172    8.83e-03    1.99e-02    5.43e-03    8.76e-05    3.52e-03    1.52e-02\n",
      "      173    8.82e-03    1.99e-02    5.41e-03    8.75e-05    3.52e-03    1.52e-02\n",
      "      174    8.80e-03    1.99e-02    5.40e-03    8.74e-05    3.51e-03    1.51e-02\n",
      "      175    8.78e-03    1.98e-02    5.39e-03    8.72e-05    3.50e-03    1.51e-02\n",
      "      176    8.77e-03    1.98e-02    5.38e-03    8.71e-05    3.50e-03    1.51e-02\n",
      "      177    8.75e-03    1.98e-02    5.37e-03    8.70e-05    3.49e-03    1.51e-02\n",
      "      178    8.73e-03    1.97e-02    5.36e-03    8.69e-05    3.49e-03    1.50e-02\n",
      "      179    8.72e-03    1.97e-02    5.35e-03    8.68e-05    3.48e-03    1.50e-02\n",
      "      180    8.70e-03    1.96e-02    5.34e-03    8.66e-05    3.47e-03    1.50e-02\n",
      "      181    8.68e-03    1.96e-02    5.33e-03    8.65e-05    3.47e-03    1.49e-02\n",
      "      182    8.67e-03    1.96e-02    5.32e-03    8.64e-05    3.46e-03    1.49e-02\n",
      "      183    8.65e-03    1.95e-02    5.31e-03    8.62e-05    3.45e-03    1.49e-02\n",
      "      184    8.64e-03    1.95e-02    5.30e-03    8.61e-05    3.45e-03    1.48e-02\n",
      "      185    8.62e-03    1.95e-02    5.28e-03    8.60e-05    3.44e-03    1.48e-02\n",
      "      186    8.60e-03    1.94e-02    5.27e-03    8.58e-05    3.44e-03    1.48e-02\n",
      "      187    8.59e-03    1.94e-02    5.26e-03    8.57e-05    3.43e-03    1.48e-02\n",
      "      188    8.57e-03    1.94e-02    5.25e-03    8.56e-05    3.42e-03    1.47e-02\n",
      "      189    8.55e-03    1.93e-02    5.24e-03    8.54e-05    3.42e-03    1.47e-02\n",
      "      190    8.54e-03    1.93e-02    5.23e-03    8.53e-05    3.41e-03    1.47e-02\n",
      "      191    8.52e-03    1.93e-02    5.22e-03    8.52e-05    3.41e-03    1.46e-02\n",
      "      192    8.50e-03    1.92e-02    5.21e-03    8.50e-05    3.40e-03    1.46e-02\n",
      "      193    8.49e-03    1.92e-02    5.20e-03    8.49e-05    3.39e-03    1.46e-02\n",
      "      194    8.47e-03    1.91e-02    5.19e-03    8.47e-05    3.39e-03    1.45e-02\n",
      "      195    8.45e-03    1.91e-02    5.18e-03    8.46e-05    3.38e-03    1.45e-02\n",
      "      196    8.44e-03    1.91e-02    5.17e-03    8.44e-05    3.38e-03    1.45e-02\n",
      "      197    8.42e-03    1.90e-02    5.15e-03    8.43e-05    3.37e-03    1.45e-02\n",
      "      198    8.40e-03    1.90e-02    5.14e-03    8.41e-05    3.37e-03    1.44e-02\n",
      "      199    8.39e-03    1.90e-02    5.13e-03    8.40e-05    3.36e-03    1.44e-02\n",
      "      200    8.37e-03    1.89e-02    5.12e-03    8.38e-05    3.35e-03    1.44e-02\n",
      "      201    8.36e-03    1.89e-02    5.11e-03    8.37e-05    3.35e-03    1.43e-02\n",
      "      202    8.34e-03    1.89e-02    5.10e-03    8.35e-05    3.34e-03    1.43e-02\n",
      "      203    8.32e-03    1.88e-02    5.09e-03    8.33e-05    3.34e-03    1.43e-02\n",
      "      204    8.31e-03    1.88e-02    5.08e-03    8.32e-05    3.33e-03    1.42e-02\n",
      "      205    8.29e-03    1.88e-02    5.07e-03    8.30e-05    3.32e-03    1.42e-02\n",
      "      206    8.27e-03    1.87e-02    5.06e-03    8.29e-05    3.32e-03    1.42e-02\n",
      "      207    8.26e-03    1.87e-02    5.05e-03    8.27e-05    3.31e-03    1.42e-02\n",
      "      208    8.24e-03    1.87e-02    5.03e-03    8.25e-05    3.31e-03    1.41e-02\n",
      "      209    8.22e-03    1.86e-02    5.02e-03    8.24e-05    3.30e-03    1.41e-02\n",
      "      210    8.21e-03    1.86e-02    5.01e-03    8.22e-05    3.29e-03    1.41e-02\n",
      "      211    8.19e-03    1.85e-02    5.00e-03    8.21e-05    3.29e-03    1.40e-02\n",
      "      212    8.17e-03    1.85e-02    4.99e-03    8.19e-05    3.28e-03    1.40e-02\n",
      "      213    8.16e-03    1.85e-02    4.98e-03    8.17e-05    3.28e-03    1.40e-02\n",
      "      214    8.14e-03    1.84e-02    4.97e-03    8.16e-05    3.27e-03    1.39e-02\n",
      "      215    8.13e-03    1.84e-02    4.96e-03    8.14e-05    3.26e-03    1.39e-02\n",
      "      216    8.11e-03    1.84e-02    4.95e-03    8.12e-05    3.26e-03    1.39e-02\n",
      "      217    8.09e-03    1.83e-02    4.94e-03    8.10e-05    3.25e-03    1.39e-02\n",
      "      218    8.08e-03    1.83e-02    4.93e-03    8.09e-05    3.25e-03    1.38e-02\n",
      "      219    8.06e-03    1.83e-02    4.91e-03    8.07e-05    3.24e-03    1.38e-02\n",
      "      220    8.04e-03    1.82e-02    4.90e-03    8.05e-05    3.24e-03    1.38e-02\n",
      "      221    8.03e-03    1.82e-02    4.89e-03    8.04e-05    3.23e-03    1.37e-02\n",
      "      222    8.01e-03    1.82e-02    4.88e-03    8.02e-05    3.22e-03    1.37e-02\n",
      "      223    7.99e-03    1.81e-02    4.87e-03    8.00e-05    3.22e-03    1.37e-02\n",
      "      224    7.98e-03    1.81e-02    4.86e-03    7.98e-05    3.21e-03    1.36e-02\n",
      "      225    7.96e-03    1.81e-02    4.85e-03    7.97e-05    3.21e-03    1.36e-02\n",
      "      226    7.94e-03    1.80e-02    4.84e-03    7.95e-05    3.20e-03    1.36e-02\n",
      "      227    7.93e-03    1.80e-02    4.83e-03    7.93e-05    3.19e-03    1.36e-02\n",
      "      228    7.91e-03    1.79e-02    4.82e-03    7.91e-05    3.19e-03    1.35e-02\n",
      "      229    7.89e-03    1.79e-02    4.80e-03    7.89e-05    3.18e-03    1.35e-02\n",
      "      230    7.88e-03    1.79e-02    4.79e-03    7.88e-05    3.18e-03    1.35e-02\n",
      "      231    7.86e-03    1.78e-02    4.78e-03    7.86e-05    3.17e-03    1.34e-02\n",
      "      232    7.84e-03    1.78e-02    4.77e-03    7.84e-05    3.16e-03    1.34e-02\n",
      "      233    7.83e-03    1.78e-02    4.76e-03    7.82e-05    3.16e-03    1.34e-02\n",
      "      234    7.81e-03    1.77e-02    4.75e-03    7.80e-05    3.15e-03    1.33e-02\n",
      "      235    7.79e-03    1.77e-02    4.74e-03    7.79e-05    3.15e-03    1.33e-02\n",
      "      236    7.78e-03    1.77e-02    4.73e-03    7.77e-05    3.14e-03    1.33e-02\n",
      "      237    7.76e-03    1.76e-02    4.72e-03    7.75e-05    3.13e-03    1.33e-02\n",
      "      238    7.74e-03    1.76e-02    4.70e-03    7.73e-05    3.13e-03    1.32e-02\n",
      "      239    7.73e-03    1.75e-02    4.69e-03    7.71e-05    3.12e-03    1.32e-02\n",
      "      240    7.71e-03    1.75e-02    4.68e-03    7.69e-05    3.12e-03    1.32e-02\n",
      "      241    7.69e-03    1.75e-02    4.67e-03    7.68e-05    3.11e-03    1.31e-02\n",
      "      242    7.68e-03    1.74e-02    4.66e-03    7.66e-05    3.10e-03    1.31e-02\n",
      "      243    7.66e-03    1.74e-02    4.65e-03    7.64e-05    3.10e-03    1.31e-02\n",
      "      244    7.64e-03    1.74e-02    4.64e-03    7.62e-05    3.09e-03    1.30e-02\n",
      "      245    7.63e-03    1.73e-02    4.63e-03    7.60e-05    3.09e-03    1.30e-02\n",
      "      246    7.61e-03    1.73e-02    4.61e-03    7.58e-05    3.08e-03    1.30e-02\n",
      "      247    7.59e-03    1.73e-02    4.60e-03    7.56e-05    3.07e-03    1.29e-02\n",
      "      248    7.57e-03    1.72e-02    4.59e-03    7.55e-05    3.07e-03    1.29e-02\n",
      "      249    7.56e-03    1.72e-02    4.58e-03    7.53e-05    3.06e-03    1.29e-02\n",
      "      250    7.54e-03    1.72e-02    4.57e-03    7.51e-05    3.06e-03    1.29e-02\n",
      "      251    7.52e-03    1.71e-02    4.56e-03    7.49e-05    3.05e-03    1.28e-02\n",
      "      252    7.51e-03    1.71e-02    4.55e-03    7.47e-05    3.04e-03    1.28e-02\n",
      "      253    7.49e-03    1.70e-02    4.54e-03    7.45e-05    3.04e-03    1.28e-02\n",
      "      254    7.47e-03    1.70e-02    4.52e-03    7.43e-05    3.03e-03    1.27e-02\n",
      "      255    7.46e-03    1.70e-02    4.51e-03    7.41e-05    3.03e-03    1.27e-02\n",
      "      256    7.44e-03    1.69e-02    4.50e-03    7.39e-05    3.02e-03    1.27e-02\n",
      "      257    7.42e-03    1.69e-02    4.49e-03    7.38e-05    3.01e-03    1.26e-02\n",
      "      258    7.40e-03    1.69e-02    4.48e-03    7.36e-05    3.01e-03    1.26e-02\n",
      "      259    7.39e-03    1.68e-02    4.47e-03    7.34e-05    3.00e-03    1.26e-02\n",
      "      260    7.37e-03    1.68e-02    4.46e-03    7.32e-05    3.00e-03    1.25e-02\n",
      "      261    7.35e-03    1.68e-02    4.44e-03    7.30e-05    2.99e-03    1.25e-02\n",
      "      262    7.34e-03    1.67e-02    4.43e-03    7.28e-05    2.98e-03    1.25e-02\n",
      "      263    7.32e-03    1.67e-02    4.42e-03    7.26e-05    2.98e-03    1.24e-02\n",
      "      264    7.30e-03    1.66e-02    4.41e-03    7.24e-05    2.97e-03    1.24e-02\n",
      "      265    7.28e-03    1.66e-02    4.40e-03    7.22e-05    2.97e-03    1.24e-02\n",
      "      266    7.27e-03    1.66e-02    4.39e-03    7.20e-05    2.96e-03    1.24e-02\n",
      "      267    7.25e-03    1.65e-02    4.38e-03    7.19e-05    2.95e-03    1.23e-02\n",
      "      268    7.23e-03    1.65e-02    4.36e-03    7.17e-05    2.95e-03    1.23e-02\n",
      "      269    7.21e-03    1.65e-02    4.35e-03    7.15e-05    2.94e-03    1.23e-02\n",
      "      270    7.20e-03    1.64e-02    4.34e-03    7.13e-05    2.93e-03    1.22e-02\n",
      "      271    7.18e-03    1.64e-02    4.33e-03    7.11e-05    2.93e-03    1.22e-02\n",
      "      272    7.16e-03    1.63e-02    4.32e-03    7.09e-05    2.92e-03    1.22e-02\n",
      "      273    7.15e-03    1.63e-02    4.31e-03    7.07e-05    2.92e-03    1.21e-02\n",
      "      274    7.13e-03    1.63e-02    4.29e-03    7.05e-05    2.91e-03    1.21e-02\n",
      "      275    7.11e-03    1.62e-02    4.28e-03    7.03e-05    2.90e-03    1.21e-02\n",
      "      276    7.09e-03    1.62e-02    4.27e-03    7.02e-05    2.90e-03    1.20e-02\n",
      "      277    7.08e-03    1.62e-02    4.26e-03    7.00e-05    2.89e-03    1.20e-02\n",
      "      278    7.06e-03    1.61e-02    4.25e-03    6.98e-05    2.88e-03    1.20e-02\n",
      "      279    7.04e-03    1.61e-02    4.24e-03    6.96e-05    2.88e-03    1.19e-02\n",
      "      280    7.02e-03    1.60e-02    4.22e-03    6.94e-05    2.87e-03    1.19e-02\n",
      "      281    7.00e-03    1.60e-02    4.21e-03    6.92e-05    2.87e-03    1.19e-02\n",
      "      282    6.99e-03    1.60e-02    4.20e-03    6.90e-05    2.86e-03    1.18e-02\n",
      "      283    6.97e-03    1.59e-02    4.19e-03    6.88e-05    2.85e-03    1.18e-02\n",
      "      284    6.95e-03    1.59e-02    4.18e-03    6.87e-05    2.85e-03    1.18e-02\n",
      "      285    6.93e-03    1.59e-02    4.17e-03    6.85e-05    2.84e-03    1.17e-02\n",
      "      286    6.92e-03    1.58e-02    4.15e-03    6.83e-05    2.83e-03    1.17e-02\n",
      "      287    6.90e-03    1.58e-02    4.14e-03    6.81e-05    2.83e-03    1.17e-02\n",
      "      288    6.88e-03    1.57e-02    4.13e-03    6.79e-05    2.82e-03    1.16e-02\n",
      "      289    6.86e-03    1.57e-02    4.12e-03    6.77e-05    2.81e-03    1.16e-02\n",
      "      290    6.84e-03    1.57e-02    4.11e-03    6.75e-05    2.81e-03    1.16e-02\n",
      "      291    6.83e-03    1.56e-02    4.09e-03    6.74e-05    2.80e-03    1.15e-02\n",
      "      292    6.81e-03    1.56e-02    4.08e-03    6.72e-05    2.80e-03    1.15e-02\n",
      "      293    6.79e-03    1.56e-02    4.07e-03    6.70e-05    2.79e-03    1.15e-02\n",
      "      294    6.77e-03    1.55e-02    4.06e-03    6.68e-05    2.78e-03    1.14e-02\n",
      "      295    6.76e-03    1.55e-02    4.05e-03    6.66e-05    2.78e-03    1.14e-02\n",
      "      296    6.74e-03    1.54e-02    4.03e-03    6.64e-05    2.77e-03    1.14e-02\n",
      "      297    6.72e-03    1.54e-02    4.02e-03    6.63e-05    2.76e-03    1.13e-02\n",
      "      298    6.70e-03    1.54e-02    4.01e-03    6.61e-05    2.76e-03    1.13e-02\n",
      "      299    6.68e-03    1.53e-02    4.00e-03    6.59e-05    2.75e-03    1.13e-02\n",
      "      300    6.67e-03    1.53e-02    3.99e-03    6.57e-05    2.74e-03    1.12e-02\n",
      "      301    6.65e-03    1.52e-02    3.97e-03    6.55e-05    2.74e-03    1.12e-02\n",
      "      302    6.63e-03    1.52e-02    3.96e-03    6.53e-05    2.73e-03    1.12e-02\n",
      "      303    6.61e-03    1.52e-02    3.95e-03    6.52e-05    2.72e-03    1.11e-02\n",
      "      304    6.59e-03    1.51e-02    3.94e-03    6.50e-05    2.72e-03    1.11e-02\n",
      "      305    6.57e-03    1.51e-02    3.93e-03    6.48e-05    2.71e-03    1.11e-02\n",
      "      306    6.56e-03    1.51e-02    3.91e-03    6.46e-05    2.70e-03    1.10e-02\n",
      "      307    6.54e-03    1.50e-02    3.90e-03    6.45e-05    2.70e-03    1.10e-02\n",
      "      308    6.52e-03    1.50e-02    3.89e-03    6.43e-05    2.69e-03    1.10e-02\n",
      "      309    6.50e-03    1.49e-02    3.88e-03    6.41e-05    2.68e-03    1.09e-02\n",
      "      310    6.48e-03    1.49e-02    3.87e-03    6.39e-05    2.68e-03    1.09e-02\n",
      "      311    6.46e-03    1.49e-02    3.85e-03    6.38e-05    2.67e-03    1.09e-02\n",
      "      312    6.45e-03    1.48e-02    3.84e-03    6.36e-05    2.66e-03    1.08e-02\n",
      "      313    6.43e-03    1.48e-02    3.83e-03    6.34e-05    2.66e-03    1.08e-02\n",
      "      314    6.41e-03    1.47e-02    3.82e-03    6.32e-05    2.65e-03    1.08e-02\n",
      "      315    6.39e-03    1.47e-02    3.81e-03    6.31e-05    2.64e-03    1.07e-02\n",
      "      316    6.37e-03    1.47e-02    3.79e-03    6.29e-05    2.64e-03    1.07e-02\n",
      "      317    6.35e-03    1.46e-02    3.78e-03    6.27e-05    2.63e-03    1.07e-02\n",
      "      318    6.34e-03    1.46e-02    3.77e-03    6.26e-05    2.62e-03    1.06e-02\n",
      "      319    6.32e-03    1.45e-02    3.76e-03    6.24e-05    2.62e-03    1.06e-02\n",
      "      320    6.30e-03    1.45e-02    3.74e-03    6.22e-05    2.61e-03    1.06e-02\n",
      "      321    6.28e-03    1.45e-02    3.73e-03    6.21e-05    2.60e-03    1.05e-02\n",
      "      322    6.26e-03    1.44e-02    3.72e-03    6.19e-05    2.60e-03    1.05e-02\n",
      "      323    6.24e-03    1.44e-02    3.71e-03    6.17e-05    2.59e-03    1.05e-02\n",
      "      324    6.22e-03    1.43e-02    3.70e-03    6.16e-05    2.58e-03    1.04e-02\n",
      "      325    6.21e-03    1.43e-02    3.68e-03    6.14e-05    2.58e-03    1.04e-02\n",
      "      326    6.19e-03    1.43e-02    3.67e-03    6.12e-05    2.57e-03    1.04e-02\n",
      "      327    6.17e-03    1.42e-02    3.66e-03    6.11e-05    2.56e-03    1.03e-02\n",
      "      328    6.15e-03    1.42e-02    3.65e-03    6.09e-05    2.56e-03    1.03e-02\n",
      "      329    6.13e-03    1.41e-02    3.63e-03    6.08e-05    2.55e-03    1.03e-02\n",
      "      330    6.11e-03    1.41e-02    3.62e-03    6.06e-05    2.54e-03    1.02e-02\n",
      "      331    6.09e-03    1.41e-02    3.61e-03    6.04e-05    2.54e-03    1.02e-02\n",
      "      332    6.08e-03    1.40e-02    3.60e-03    6.03e-05    2.53e-03    1.02e-02\n",
      "      333    6.06e-03    1.40e-02    3.58e-03    6.01e-05    2.52e-03    1.01e-02\n",
      "      334    6.04e-03    1.39e-02    3.57e-03    6.00e-05    2.52e-03    1.01e-02\n",
      "      335    6.02e-03    1.39e-02    3.56e-03    5.98e-05    2.51e-03    1.01e-02\n",
      "      336    6.00e-03    1.39e-02    3.55e-03    5.97e-05    2.50e-03    1.00e-02\n",
      "      337    5.98e-03    1.38e-02    3.54e-03    5.95e-05    2.50e-03    9.99e-03\n",
      "      338    5.96e-03    1.38e-02    3.52e-03    5.94e-05    2.49e-03    9.96e-03\n",
      "      339    5.94e-03    1.37e-02    3.51e-03    5.92e-05    2.48e-03    9.92e-03\n",
      "      340    5.92e-03    1.37e-02    3.50e-03    5.91e-05    2.47e-03    9.89e-03\n",
      "      341    5.91e-03    1.37e-02    3.49e-03    5.89e-05    2.47e-03    9.85e-03\n",
      "      342    5.89e-03    1.36e-02    3.47e-03    5.88e-05    2.46e-03    9.82e-03\n",
      "      343    5.87e-03    1.36e-02    3.46e-03    5.86e-05    2.45e-03    9.78e-03\n",
      "      344    5.85e-03    1.35e-02    3.45e-03    5.85e-05    2.45e-03    9.75e-03\n",
      "      345    5.83e-03    1.35e-02    3.44e-03    5.83e-05    2.44e-03    9.71e-03\n",
      "      346    5.81e-03    1.35e-02    3.42e-03    5.82e-05    2.43e-03    9.68e-03\n",
      "      347    5.79e-03    1.34e-02    3.41e-03    5.81e-05    2.43e-03    9.64e-03\n",
      "      348    5.77e-03    1.34e-02    3.40e-03    5.79e-05    2.42e-03    9.61e-03\n",
      "      349    5.75e-03    1.33e-02    3.39e-03    5.78e-05    2.41e-03    9.57e-03\n",
      "      350    5.73e-03    1.33e-02    3.37e-03    5.76e-05    2.40e-03    9.54e-03\n",
      "      351    5.72e-03    1.33e-02    3.36e-03    5.75e-05    2.40e-03    9.50e-03\n",
      "      352    5.70e-03    1.32e-02    3.35e-03    5.74e-05    2.39e-03    9.47e-03\n",
      "      353    5.68e-03    1.32e-02    3.34e-03    5.72e-05    2.38e-03    9.43e-03\n",
      "      354    5.66e-03    1.31e-02    3.32e-03    5.71e-05    2.38e-03    9.40e-03\n",
      "      355    5.64e-03    1.31e-02    3.31e-03    5.70e-05    2.37e-03    9.36e-03\n",
      "      356    5.62e-03    1.31e-02    3.30e-03    5.68e-05    2.36e-03    9.33e-03\n",
      "      357    5.60e-03    1.30e-02    3.29e-03    5.67e-05    2.36e-03    9.29e-03\n",
      "      358    5.58e-03    1.30e-02    3.27e-03    5.66e-05    2.35e-03    9.26e-03\n",
      "      359    5.56e-03    1.29e-02    3.26e-03    5.65e-05    2.34e-03    9.22e-03\n",
      "      360    5.54e-03    1.29e-02    3.25e-03    5.63e-05    2.33e-03    9.19e-03\n",
      "      361    5.52e-03    1.28e-02    3.24e-03    5.62e-05    2.33e-03    9.15e-03\n",
      "      362    5.50e-03    1.28e-02    3.22e-03    5.61e-05    2.32e-03    9.12e-03\n",
      "      363    5.49e-03    1.28e-02    3.21e-03    5.60e-05    2.31e-03    9.08e-03\n",
      "      364    5.47e-03    1.27e-02    3.20e-03    5.59e-05    2.31e-03    9.05e-03\n",
      "      365    5.45e-03    1.27e-02    3.19e-03    5.57e-05    2.30e-03    9.01e-03\n",
      "      366    5.43e-03    1.26e-02    3.17e-03    5.56e-05    2.29e-03    8.98e-03\n",
      "      367    5.41e-03    1.26e-02    3.16e-03    5.55e-05    2.28e-03    8.94e-03\n",
      "      368    5.39e-03    1.26e-02    3.15e-03    5.54e-05    2.28e-03    8.90e-03\n",
      "      369    5.37e-03    1.25e-02    3.14e-03    5.53e-05    2.27e-03    8.87e-03\n",
      "      370    5.35e-03    1.25e-02    3.12e-03    5.52e-05    2.26e-03    8.83e-03\n",
      "      371    5.33e-03    1.24e-02    3.11e-03    5.51e-05    2.26e-03    8.80e-03\n",
      "      372    5.31e-03    1.24e-02    3.10e-03    5.50e-05    2.25e-03    8.76e-03\n",
      "      373    5.29e-03    1.24e-02    3.09e-03    5.49e-05    2.24e-03    8.73e-03\n",
      "      374    5.27e-03    1.23e-02    3.07e-03    5.48e-05    2.23e-03    8.69e-03\n",
      "      375    5.25e-03    1.23e-02    3.06e-03    5.47e-05    2.23e-03    8.66e-03\n",
      "      376    5.23e-03    1.22e-02    3.05e-03    5.46e-05    2.22e-03    8.62e-03\n",
      "      377    5.21e-03    1.22e-02    3.04e-03    5.45e-05    2.21e-03    8.59e-03\n",
      "      378    5.20e-03    1.21e-02    3.02e-03    5.44e-05    2.20e-03    8.55e-03\n",
      "      379    5.18e-03    1.21e-02    3.01e-03    5.43e-05    2.20e-03    8.51e-03\n",
      "      380    5.16e-03    1.21e-02    3.00e-03    5.42e-05    2.19e-03    8.48e-03\n",
      "      381    5.14e-03    1.20e-02    2.99e-03    5.41e-05    2.18e-03    8.44e-03\n",
      "      382    5.12e-03    1.20e-02    2.97e-03    5.40e-05    2.18e-03    8.41e-03\n",
      "      383    5.10e-03    1.19e-02    2.96e-03    5.39e-05    2.17e-03    8.37e-03\n",
      "      384    5.08e-03    1.19e-02    2.95e-03    5.38e-05    2.16e-03    8.34e-03\n",
      "      385    5.06e-03    1.19e-02    2.94e-03    5.37e-05    2.15e-03    8.30e-03\n",
      "      386    5.04e-03    1.18e-02    2.92e-03    5.36e-05    2.15e-03    8.27e-03\n",
      "      387    5.02e-03    1.18e-02    2.91e-03    5.36e-05    2.14e-03    8.23e-03\n",
      "      388    5.00e-03    1.17e-02    2.90e-03    5.35e-05    2.13e-03    8.19e-03\n",
      "      389    4.98e-03    1.17e-02    2.88e-03    5.34e-05    2.12e-03    8.16e-03\n",
      "      390    4.96e-03    1.16e-02    2.87e-03    5.33e-05    2.12e-03    8.12e-03\n",
      "      391    4.94e-03    1.16e-02    2.86e-03    5.33e-05    2.11e-03    8.09e-03\n",
      "      392    4.92e-03    1.16e-02    2.85e-03    5.32e-05    2.10e-03    8.05e-03\n",
      "      393    4.90e-03    1.15e-02    2.83e-03    5.31e-05    2.10e-03    8.02e-03\n",
      "      394    4.88e-03    1.15e-02    2.82e-03    5.30e-05    2.09e-03    7.98e-03\n",
      "      395    4.87e-03    1.14e-02    2.81e-03    5.30e-05    2.08e-03    7.95e-03\n",
      "      396    4.85e-03    1.14e-02    2.80e-03    5.29e-05    2.07e-03    7.91e-03\n",
      "      397    4.83e-03    1.14e-02    2.78e-03    5.29e-05    2.07e-03    7.88e-03\n",
      "      398    4.81e-03    1.13e-02    2.77e-03    5.28e-05    2.06e-03    7.84e-03\n",
      "      399    4.79e-03    1.13e-02    2.76e-03    5.27e-05    2.05e-03    7.80e-03\n",
      "      400    4.77e-03    1.12e-02    2.75e-03    5.27e-05    2.04e-03    7.77e-03\n",
      "      401    4.75e-03    1.12e-02    2.74e-03    5.26e-05    2.04e-03    7.73e-03\n",
      "      402    4.73e-03    1.11e-02    2.72e-03    5.26e-05    2.03e-03    7.70e-03\n",
      "      403    4.71e-03    1.11e-02    2.71e-03    5.25e-05    2.02e-03    7.66e-03\n",
      "      404    4.69e-03    1.11e-02    2.70e-03    5.25e-05    2.01e-03    7.63e-03\n",
      "      405    4.67e-03    1.10e-02    2.69e-03    5.24e-05    2.01e-03    7.59e-03\n",
      "      406    4.65e-03    1.10e-02    2.67e-03    5.24e-05    2.00e-03    7.56e-03\n",
      "      407    4.63e-03    1.09e-02    2.66e-03    5.23e-05    1.99e-03    7.52e-03\n",
      "      408    4.61e-03    1.09e-02    2.65e-03    5.23e-05    1.98e-03    7.49e-03\n",
      "      409    4.59e-03    1.09e-02    2.64e-03    5.22e-05    1.98e-03    7.45e-03\n",
      "      410    4.57e-03    1.08e-02    2.62e-03    5.22e-05    1.97e-03    7.42e-03\n",
      "      411    4.56e-03    1.08e-02    2.61e-03    5.22e-05    1.96e-03    7.38e-03\n",
      "      412    4.54e-03    1.07e-02    2.60e-03    5.21e-05    1.96e-03    7.35e-03\n",
      "      413    4.52e-03    1.07e-02    2.59e-03    5.21e-05    1.95e-03    7.31e-03\n",
      "      414    4.50e-03    1.06e-02    2.57e-03    5.21e-05    1.94e-03    7.28e-03\n",
      "      415    4.48e-03    1.06e-02    2.56e-03    5.21e-05    1.93e-03    7.24e-03\n",
      "      416    4.46e-03    1.06e-02    2.55e-03    5.20e-05    1.93e-03    7.21e-03\n",
      "      417    4.44e-03    1.05e-02    2.54e-03    5.20e-05    1.92e-03    7.17e-03\n",
      "      418    4.42e-03    1.05e-02    2.52e-03    5.20e-05    1.91e-03    7.13e-03\n",
      "      419    4.40e-03    1.04e-02    2.51e-03    5.20e-05    1.90e-03    7.10e-03\n",
      "      420    4.38e-03    1.04e-02    2.50e-03    5.19e-05    1.90e-03    7.07e-03\n",
      "      421    4.36e-03    1.04e-02    2.49e-03    5.19e-05    1.89e-03    7.03e-03\n",
      "      422    4.34e-03    1.03e-02    2.48e-03    5.19e-05    1.88e-03    7.00e-03\n",
      "      423    4.32e-03    1.03e-02    2.46e-03    5.19e-05    1.87e-03    6.96e-03\n",
      "      424    4.30e-03    1.02e-02    2.45e-03    5.19e-05    1.87e-03    6.93e-03\n",
      "      425    4.29e-03    1.02e-02    2.44e-03    5.19e-05    1.86e-03    6.89e-03\n",
      "      426    4.27e-03    1.01e-02    2.43e-03    5.19e-05    1.85e-03    6.86e-03\n",
      "      427    4.25e-03    1.01e-02    2.41e-03    5.19e-05    1.84e-03    6.82e-03\n",
      "      428    4.23e-03    1.01e-02    2.40e-03    5.19e-05    1.84e-03    6.79e-03\n",
      "      429    4.21e-03    1.00e-02    2.39e-03    5.19e-05    1.83e-03    6.75e-03\n",
      "      430    4.19e-03    9.98e-03    2.38e-03    5.19e-05    1.82e-03    6.72e-03\n",
      "      431    4.17e-03    9.94e-03    2.37e-03    5.19e-05    1.82e-03    6.68e-03\n",
      "      432    4.15e-03    9.90e-03    2.35e-03    5.19e-05    1.81e-03    6.65e-03\n",
      "      433    4.13e-03    9.86e-03    2.34e-03    5.19e-05    1.80e-03    6.61e-03\n",
      "      434    4.11e-03    9.82e-03    2.33e-03    5.20e-05    1.79e-03    6.58e-03\n",
      "      435    4.10e-03    9.77e-03    2.32e-03    5.20e-05    1.79e-03    6.55e-03\n",
      "      436    4.08e-03    9.73e-03    2.31e-03    5.20e-05    1.78e-03    6.51e-03\n",
      "      437    4.06e-03    9.69e-03    2.29e-03    5.20e-05    1.77e-03    6.48e-03\n",
      "      438    4.04e-03    9.65e-03    2.28e-03    5.20e-05    1.76e-03    6.44e-03\n",
      "      439    4.02e-03    9.61e-03    2.27e-03    5.21e-05    1.76e-03    6.41e-03\n",
      "      440    4.00e-03    9.57e-03    2.26e-03    5.21e-05    1.75e-03    6.37e-03\n",
      "      441    3.98e-03    9.53e-03    2.25e-03    5.21e-05    1.74e-03    6.34e-03\n",
      "      442    3.96e-03    9.49e-03    2.23e-03    5.22e-05    1.73e-03    6.31e-03\n",
      "      443    3.94e-03    9.45e-03    2.22e-03    5.22e-05    1.73e-03    6.27e-03\n",
      "      444    3.93e-03    9.41e-03    2.21e-03    5.22e-05    1.72e-03    6.24e-03\n",
      "      445    3.91e-03    9.36e-03    2.20e-03    5.23e-05    1.71e-03    6.21e-03\n",
      "      446    3.89e-03    9.32e-03    2.19e-03    5.23e-05    1.71e-03    6.17e-03\n",
      "      447    3.87e-03    9.28e-03    2.18e-03    5.24e-05    1.70e-03    6.14e-03\n",
      "      448    3.85e-03    9.24e-03    2.16e-03    5.24e-05    1.69e-03    6.10e-03\n",
      "      449    3.83e-03    9.20e-03    2.15e-03    5.24e-05    1.68e-03    6.07e-03\n",
      "      450    3.81e-03    9.16e-03    2.14e-03    5.25e-05    1.68e-03    6.04e-03\n",
      "      451    3.79e-03    9.12e-03    2.13e-03    5.26e-05    1.67e-03    6.00e-03\n",
      "      452    3.78e-03    9.08e-03    2.12e-03    5.26e-05    1.66e-03    5.97e-03\n",
      "      453    3.76e-03    9.04e-03    2.11e-03    5.27e-05    1.65e-03    5.94e-03\n",
      "      454    3.74e-03    9.00e-03    2.09e-03    5.27e-05    1.65e-03    5.90e-03\n",
      "      455    3.72e-03    8.96e-03    2.08e-03    5.28e-05    1.64e-03    5.87e-03\n",
      "      456    3.70e-03    8.92e-03    2.07e-03    5.29e-05    1.63e-03    5.84e-03\n",
      "      457    3.68e-03    8.88e-03    2.06e-03    5.29e-05    1.63e-03    5.80e-03\n",
      "      458    3.67e-03    8.84e-03    2.05e-03    5.30e-05    1.62e-03    5.77e-03\n",
      "      459    3.65e-03    8.80e-03    2.04e-03    5.31e-05    1.61e-03    5.74e-03\n",
      "      460    3.63e-03    8.76e-03    2.02e-03    5.32e-05    1.60e-03    5.71e-03\n",
      "      461    3.61e-03    8.72e-03    2.01e-03    5.32e-05    1.60e-03    5.67e-03\n",
      "      462    3.59e-03    8.68e-03    2.00e-03    5.33e-05    1.59e-03    5.64e-03\n",
      "      463    3.57e-03    8.64e-03    1.99e-03    5.34e-05    1.58e-03    5.61e-03\n",
      "      464    3.56e-03    8.60e-03    1.98e-03    5.35e-05    1.57e-03    5.58e-03\n",
      "      465    3.54e-03    8.56e-03    1.97e-03    5.36e-05    1.57e-03    5.54e-03\n",
      "      466    3.52e-03    8.52e-03    1.96e-03    5.37e-05    1.56e-03    5.51e-03\n",
      "      467    3.50e-03    8.48e-03    1.95e-03    5.38e-05    1.55e-03    5.48e-03\n",
      "      468    3.48e-03    8.44e-03    1.93e-03    5.38e-05    1.55e-03    5.45e-03\n",
      "      469    3.47e-03    8.40e-03    1.92e-03    5.39e-05    1.54e-03    5.42e-03\n",
      "      470    3.45e-03    8.36e-03    1.91e-03    5.40e-05    1.53e-03    5.38e-03\n",
      "      471    3.43e-03    8.32e-03    1.90e-03    5.41e-05    1.53e-03    5.35e-03\n",
      "      472    3.41e-03    8.28e-03    1.89e-03    5.43e-05    1.52e-03    5.32e-03\n",
      "      473    3.40e-03    8.25e-03    1.88e-03    5.44e-05    1.51e-03    5.29e-03\n",
      "      474    3.38e-03    8.21e-03    1.87e-03    5.45e-05    1.50e-03    5.26e-03\n",
      "      475    3.36e-03    8.17e-03    1.86e-03    5.46e-05    1.50e-03    5.23e-03\n",
      "      476    3.34e-03    8.13e-03    1.85e-03    5.47e-05    1.49e-03    5.19e-03\n",
      "      477    3.33e-03    8.09e-03    1.84e-03    5.48e-05    1.48e-03    5.16e-03\n",
      "      478    3.31e-03    8.05e-03    1.82e-03    5.49e-05    1.48e-03    5.13e-03\n",
      "      479    3.29e-03    8.01e-03    1.81e-03    5.51e-05    1.47e-03    5.10e-03\n",
      "      480    3.27e-03    7.97e-03    1.80e-03    5.52e-05    1.46e-03    5.07e-03\n",
      "      481    3.26e-03    7.94e-03    1.79e-03    5.53e-05    1.46e-03    5.04e-03\n",
      "      482    3.24e-03    7.90e-03    1.78e-03    5.54e-05    1.45e-03    5.01e-03\n",
      "      483    3.22e-03    7.86e-03    1.77e-03    5.56e-05    1.44e-03    4.98e-03\n",
      "      484    3.20e-03    7.82e-03    1.76e-03    5.57e-05    1.43e-03    4.95e-03\n",
      "      485    3.19e-03    7.78e-03    1.75e-03    5.58e-05    1.43e-03    4.92e-03\n",
      "      486    3.17e-03    7.74e-03    1.74e-03    5.60e-05    1.42e-03    4.88e-03\n",
      "      487    3.15e-03    7.71e-03    1.73e-03    5.61e-05    1.41e-03    4.85e-03\n",
      "      488    3.13e-03    7.67e-03    1.72e-03    5.63e-05    1.41e-03    4.82e-03\n",
      "      489    3.12e-03    7.63e-03    1.71e-03    5.64e-05    1.40e-03    4.79e-03\n",
      "      490    3.10e-03    7.59e-03    1.70e-03    5.66e-05    1.39e-03    4.76e-03\n",
      "      491    3.08e-03    7.56e-03    1.69e-03    5.67e-05    1.39e-03    4.73e-03\n",
      "      492    3.07e-03    7.52e-03    1.68e-03    5.69e-05    1.38e-03    4.70e-03\n",
      "      493    3.05e-03    7.48e-03    1.66e-03    5.70e-05    1.37e-03    4.67e-03\n",
      "      494    3.03e-03    7.44e-03    1.65e-03    5.72e-05    1.37e-03    4.65e-03\n",
      "      495    3.02e-03    7.41e-03    1.64e-03    5.73e-05    1.36e-03    4.62e-03\n",
      "      496    3.00e-03    7.37e-03    1.63e-03    5.75e-05    1.35e-03    4.59e-03\n",
      "      497    2.98e-03    7.33e-03    1.62e-03    5.77e-05    1.35e-03    4.56e-03\n",
      "      498    2.97e-03    7.30e-03    1.61e-03    5.78e-05    1.34e-03    4.53e-03\n",
      "      499    2.95e-03    7.26e-03    1.60e-03    5.80e-05    1.33e-03    4.50e-03\n",
      "      500    2.93e-03    7.22e-03    1.59e-03    5.82e-05    1.33e-03    4.47e-03\n",
      "      501    2.92e-03    7.19e-03    1.58e-03    5.84e-05    1.32e-03    4.44e-03\n",
      "      502    2.90e-03    7.15e-03    1.57e-03    5.85e-05    1.31e-03    4.41e-03\n",
      "      503    2.88e-03    7.11e-03    1.56e-03    5.87e-05    1.31e-03    4.38e-03\n",
      "      504    2.87e-03    7.08e-03    1.55e-03    5.89e-05    1.30e-03    4.36e-03\n",
      "      505    2.85e-03    7.04e-03    1.54e-03    5.91e-05    1.29e-03    4.33e-03\n",
      "      506    2.84e-03    7.00e-03    1.53e-03    5.93e-05    1.29e-03    4.30e-03\n",
      "      507    2.82e-03    6.97e-03    1.52e-03    5.95e-05    1.28e-03    4.27e-03\n",
      "      508    2.80e-03    6.93e-03    1.51e-03    5.96e-05    1.27e-03    4.24e-03\n",
      "      509    2.79e-03    6.90e-03    1.50e-03    5.98e-05    1.27e-03    4.21e-03\n",
      "      510    2.77e-03    6.86e-03    1.49e-03    6.00e-05    1.26e-03    4.19e-03\n",
      "      511    2.76e-03    6.83e-03    1.48e-03    6.02e-05    1.25e-03    4.16e-03\n",
      "      512    2.74e-03    6.79e-03    1.48e-03    6.04e-05    1.25e-03    4.13e-03\n",
      "      513    2.73e-03    6.75e-03    1.47e-03    6.06e-05    1.24e-03    4.10e-03\n",
      "      514    2.71e-03    6.72e-03    1.46e-03    6.08e-05    1.23e-03    4.08e-03\n",
      "      515    2.69e-03    6.68e-03    1.45e-03    6.10e-05    1.23e-03    4.05e-03\n",
      "      516    2.68e-03    6.65e-03    1.44e-03    6.12e-05    1.22e-03    4.02e-03\n",
      "      517    2.66e-03    6.61e-03    1.43e-03    6.15e-05    1.22e-03    4.00e-03\n",
      "      518    2.65e-03    6.58e-03    1.42e-03    6.17e-05    1.21e-03    3.97e-03\n",
      "      519    2.63e-03    6.55e-03    1.41e-03    6.19e-05    1.20e-03    3.94e-03\n",
      "      520    2.62e-03    6.51e-03    1.40e-03    6.21e-05    1.20e-03    3.92e-03\n",
      "      521    2.60e-03    6.48e-03    1.39e-03    6.23e-05    1.19e-03    3.89e-03\n",
      "      522    2.59e-03    6.44e-03    1.38e-03    6.25e-05    1.18e-03    3.86e-03\n",
      "      523    2.57e-03    6.41e-03    1.37e-03    6.28e-05    1.18e-03    3.84e-03\n",
      "      524    2.56e-03    6.37e-03    1.36e-03    6.30e-05    1.17e-03    3.81e-03\n",
      "      525    2.54e-03    6.34e-03    1.35e-03    6.32e-05    1.17e-03    3.79e-03\n",
      "      526    2.53e-03    6.31e-03    1.34e-03    6.34e-05    1.16e-03    3.76e-03\n",
      "      527    2.51e-03    6.27e-03    1.34e-03    6.37e-05    1.15e-03    3.73e-03\n",
      "      528    2.50e-03    6.24e-03    1.33e-03    6.39e-05    1.15e-03    3.71e-03\n",
      "      529    2.48e-03    6.21e-03    1.32e-03    6.41e-05    1.14e-03    3.68e-03\n",
      "      530    2.47e-03    6.17e-03    1.31e-03    6.44e-05    1.14e-03    3.66e-03\n",
      "      531    2.45e-03    6.14e-03    1.30e-03    6.46e-05    1.13e-03    3.63e-03\n",
      "      532    2.44e-03    6.11e-03    1.29e-03    6.49e-05    1.12e-03    3.61e-03\n",
      "      533    2.42e-03    6.07e-03    1.28e-03    6.51e-05    1.12e-03    3.58e-03\n",
      "      534    2.41e-03    6.04e-03    1.27e-03    6.54e-05    1.11e-03    3.56e-03\n",
      "      535    2.40e-03    6.01e-03    1.27e-03    6.56e-05    1.11e-03    3.53e-03\n",
      "      536    2.38e-03    5.98e-03    1.26e-03    6.59e-05    1.10e-03    3.51e-03\n",
      "      537    2.37e-03    5.94e-03    1.25e-03    6.61e-05    1.09e-03    3.48e-03\n",
      "      538    2.35e-03    5.91e-03    1.24e-03    6.64e-05    1.09e-03    3.46e-03\n",
      "      539    2.34e-03    5.88e-03    1.23e-03    6.66e-05    1.08e-03    3.44e-03\n",
      "      540    2.32e-03    5.85e-03    1.22e-03    6.69e-05    1.08e-03    3.41e-03\n",
      "      541    2.31e-03    5.81e-03    1.21e-03    6.71e-05    1.07e-03    3.39e-03\n",
      "      542    2.30e-03    5.78e-03    1.21e-03    6.74e-05    1.06e-03    3.36e-03\n",
      "      543    2.28e-03    5.75e-03    1.20e-03    6.77e-05    1.06e-03    3.34e-03\n",
      "      544    2.27e-03    5.72e-03    1.19e-03    6.79e-05    1.05e-03    3.32e-03\n",
      "      545    2.26e-03    5.69e-03    1.18e-03    6.82e-05    1.05e-03    3.29e-03\n",
      "      546    2.24e-03    5.66e-03    1.17e-03    6.85e-05    1.04e-03    3.27e-03\n",
      "      547    2.23e-03    5.63e-03    1.16e-03    6.87e-05    1.04e-03    3.25e-03\n",
      "      548    2.22e-03    5.60e-03    1.16e-03    6.90e-05    1.03e-03    3.22e-03\n",
      "      549    2.20e-03    5.56e-03    1.15e-03    6.93e-05    1.02e-03    3.20e-03\n",
      "      550    2.19e-03    5.53e-03    1.14e-03    6.95e-05    1.02e-03    3.18e-03\n",
      "      551    2.18e-03    5.50e-03    1.13e-03    6.98e-05    1.01e-03    3.16e-03\n",
      "      552    2.16e-03    5.47e-03    1.12e-03    7.01e-05    1.01e-03    3.13e-03\n",
      "      553    2.15e-03    5.44e-03    1.12e-03    7.04e-05    1.00e-03    3.11e-03\n",
      "      554    2.14e-03    5.41e-03    1.11e-03    7.07e-05    9.97e-04    3.09e-03\n",
      "      555    2.12e-03    5.38e-03    1.10e-03    7.09e-05    9.92e-04    3.07e-03\n",
      "      556    2.11e-03    5.35e-03    1.09e-03    7.12e-05    9.86e-04    3.05e-03\n",
      "      557    2.10e-03    5.32e-03    1.09e-03    7.15e-05    9.81e-04    3.02e-03\n",
      "      558    2.08e-03    5.29e-03    1.08e-03    7.18e-05    9.75e-04    3.00e-03\n",
      "      559    2.07e-03    5.26e-03    1.07e-03    7.21e-05    9.70e-04    2.98e-03\n",
      "      560    2.06e-03    5.23e-03    1.06e-03    7.24e-05    9.65e-04    2.96e-03\n",
      "      561    2.05e-03    5.20e-03    1.06e-03    7.27e-05    9.59e-04    2.94e-03\n",
      "      562    2.03e-03    5.18e-03    1.05e-03    7.30e-05    9.54e-04    2.92e-03\n",
      "      563    2.02e-03    5.15e-03    1.04e-03    7.33e-05    9.49e-04    2.90e-03\n",
      "      564    2.01e-03    5.12e-03    1.03e-03    7.36e-05    9.44e-04    2.87e-03\n",
      "      565    2.00e-03    5.09e-03    1.03e-03    7.39e-05    9.38e-04    2.85e-03\n",
      "      566    1.98e-03    5.06e-03    1.02e-03    7.42e-05    9.33e-04    2.83e-03\n",
      "      567    1.97e-03    5.03e-03    1.01e-03    7.45e-05    9.28e-04    2.81e-03\n",
      "      568    1.96e-03    5.00e-03    1.00e-03    7.48e-05    9.23e-04    2.79e-03\n",
      "      569    1.95e-03    4.98e-03    9.97e-04    7.51e-05    9.18e-04    2.77e-03\n",
      "      570    1.94e-03    4.95e-03    9.90e-04    7.54e-05    9.13e-04    2.75e-03\n",
      "      571    1.92e-03    4.92e-03    9.83e-04    7.57e-05    9.07e-04    2.73e-03\n",
      "      572    1.91e-03    4.89e-03    9.76e-04    7.60e-05    9.02e-04    2.71e-03\n",
      "      573    1.90e-03    4.86e-03    9.69e-04    7.63e-05    8.97e-04    2.69e-03\n",
      "      574    1.89e-03    4.84e-03    9.62e-04    7.66e-05    8.92e-04    2.67e-03\n",
      "      575    1.88e-03    4.81e-03    9.55e-04    7.69e-05    8.87e-04    2.65e-03\n",
      "      576    1.87e-03    4.78e-03    9.49e-04    7.72e-05    8.82e-04    2.64e-03\n",
      "      577    1.85e-03    4.75e-03    9.42e-04    7.75e-05    8.77e-04    2.62e-03\n",
      "      578    1.84e-03    4.73e-03    9.35e-04    7.79e-05    8.73e-04    2.60e-03\n",
      "      579    1.83e-03    4.70e-03    9.28e-04    7.82e-05    8.68e-04    2.58e-03\n",
      "      580    1.82e-03    4.67e-03    9.22e-04    7.85e-05    8.63e-04    2.56e-03\n",
      "      581    1.81e-03    4.65e-03    9.15e-04    7.88e-05    8.58e-04    2.54e-03\n",
      "      582    1.80e-03    4.62e-03    9.08e-04    7.91e-05    8.53e-04    2.52e-03\n",
      "      583    1.79e-03    4.60e-03    9.02e-04    7.95e-05    8.48e-04    2.50e-03\n",
      "      584    1.77e-03    4.57e-03    8.95e-04    7.98e-05    8.44e-04    2.49e-03\n",
      "      585    1.76e-03    4.54e-03    8.89e-04    8.01e-05    8.39e-04    2.47e-03\n",
      "      586    1.75e-03    4.52e-03    8.83e-04    8.04e-05    8.34e-04    2.45e-03\n",
      "      587    1.74e-03    4.49e-03    8.76e-04    8.08e-05    8.30e-04    2.43e-03\n",
      "      588    1.73e-03    4.47e-03    8.70e-04    8.11e-05    8.25e-04    2.41e-03\n",
      "      589    1.72e-03    4.44e-03    8.64e-04    8.14e-05    8.20e-04    2.40e-03\n",
      "      590    1.71e-03    4.42e-03    8.57e-04    8.17e-05    8.16e-04    2.38e-03\n",
      "      591    1.70e-03    4.39e-03    8.51e-04    8.21e-05    8.11e-04    2.36e-03\n",
      "      592    1.69e-03    4.36e-03    8.45e-04    8.24e-05    8.06e-04    2.34e-03\n",
      "      593    1.68e-03    4.34e-03    8.39e-04    8.27e-05    8.02e-04    2.33e-03\n",
      "      594    1.67e-03    4.32e-03    8.33e-04    8.31e-05    7.97e-04    2.31e-03\n",
      "      595    1.66e-03    4.29e-03    8.27e-04    8.34e-05    7.93e-04    2.29e-03\n",
      "      596    1.65e-03    4.27e-03    8.21e-04    8.37e-05    7.88e-04    2.28e-03\n",
      "      597    1.64e-03    4.24e-03    8.15e-04    8.41e-05    7.84e-04    2.26e-03\n",
      "      598    1.63e-03    4.22e-03    8.09e-04    8.44e-05    7.80e-04    2.24e-03\n",
      "      599    1.62e-03    4.19e-03    8.03e-04    8.47e-05    7.75e-04    2.23e-03\n",
      "      600    1.61e-03    4.17e-03    7.97e-04    8.51e-05    7.71e-04    2.21e-03\n",
      "      601    1.60e-03    4.15e-03    7.92e-04    8.54e-05    7.67e-04    2.19e-03\n",
      "      602    1.59e-03    4.12e-03    7.86e-04    8.58e-05    7.62e-04    2.18e-03\n",
      "      603    1.58e-03    4.10e-03    7.80e-04    8.61e-05    7.58e-04    2.16e-03\n",
      "      604    1.57e-03    4.07e-03    7.75e-04    8.64e-05    7.54e-04    2.15e-03\n",
      "      605    1.56e-03    4.05e-03    7.69e-04    8.68e-05    7.49e-04    2.13e-03\n",
      "      606    1.55e-03    4.03e-03    7.63e-04    8.71e-05    7.45e-04    2.12e-03\n",
      "      607    1.54e-03    4.01e-03    7.58e-04    8.75e-05    7.41e-04    2.10e-03\n",
      "      608    1.53e-03    3.98e-03    7.52e-04    8.78e-05    7.37e-04    2.09e-03\n",
      "      609    1.52e-03    3.96e-03    7.47e-04    8.82e-05    7.33e-04    2.07e-03\n",
      "      610    1.51e-03    3.94e-03    7.42e-04    8.85e-05    7.29e-04    2.05e-03\n",
      "      611    1.50e-03    3.91e-03    7.36e-04    8.88e-05    7.24e-04    2.04e-03\n",
      "      612    1.49e-03    3.89e-03    7.31e-04    8.92e-05    7.20e-04    2.03e-03\n",
      "      613    1.48e-03    3.87e-03    7.26e-04    8.95e-05    7.16e-04    2.01e-03\n",
      "      614    1.47e-03    3.85e-03    7.20e-04    8.99e-05    7.12e-04    2.00e-03\n",
      "      615    1.46e-03    3.83e-03    7.15e-04    9.02e-05    7.08e-04    1.98e-03\n",
      "      616    1.46e-03    3.80e-03    7.10e-04    9.06e-05    7.04e-04    1.97e-03\n",
      "      617    1.45e-03    3.78e-03    7.05e-04    9.09e-05    7.00e-04    1.95e-03\n",
      "      618    1.44e-03    3.76e-03    7.00e-04    9.13e-05    6.96e-04    1.94e-03\n",
      "      619    1.43e-03    3.74e-03    6.95e-04    9.16e-05    6.93e-04    1.92e-03\n",
      "      620    1.42e-03    3.72e-03    6.90e-04    9.20e-05    6.89e-04    1.91e-03\n",
      "      621    1.41e-03    3.70e-03    6.85e-04    9.23e-05    6.85e-04    1.90e-03\n",
      "      622    1.40e-03    3.67e-03    6.80e-04    9.27e-05    6.81e-04    1.88e-03\n",
      "      623    1.39e-03    3.65e-03    6.75e-04    9.30e-05    6.77e-04    1.87e-03\n",
      "      624    1.39e-03    3.63e-03    6.70e-04    9.34e-05    6.73e-04    1.86e-03\n",
      "      625    1.38e-03    3.61e-03    6.65e-04    9.37e-05    6.70e-04    1.84e-03\n",
      "      626    1.37e-03    3.59e-03    6.60e-04    9.41e-05    6.66e-04    1.83e-03\n",
      "      627    1.36e-03    3.57e-03    6.56e-04    9.44e-05    6.62e-04    1.82e-03\n",
      "      628    1.35e-03    3.55e-03    6.51e-04    9.48e-05    6.58e-04    1.80e-03\n",
      "      629    1.34e-03    3.53e-03    6.46e-04    9.51e-05    6.55e-04    1.79e-03\n",
      "      630    1.34e-03    3.51e-03    6.41e-04    9.55e-05    6.51e-04    1.78e-03\n",
      "      631    1.33e-03    3.49e-03    6.37e-04    9.58e-05    6.47e-04    1.76e-03\n",
      "      632    1.32e-03    3.47e-03    6.32e-04    9.62e-05    6.44e-04    1.75e-03\n",
      "      633    1.31e-03    3.45e-03    6.28e-04    9.66e-05    6.40e-04    1.74e-03\n",
      "      634    1.30e-03    3.43e-03    6.23e-04    9.69e-05    6.37e-04    1.73e-03\n",
      "      635    1.30e-03    3.41e-03    6.19e-04    9.73e-05    6.33e-04    1.71e-03\n",
      "      636    1.29e-03    3.39e-03    6.14e-04    9.76e-05    6.30e-04    1.70e-03\n",
      "      637    1.28e-03    3.37e-03    6.10e-04    9.80e-05    6.26e-04    1.69e-03\n",
      "      638    1.27e-03    3.35e-03    6.06e-04    9.83e-05    6.23e-04    1.68e-03\n",
      "      639    1.26e-03    3.33e-03    6.01e-04    9.87e-05    6.19e-04    1.67e-03\n",
      "      640    1.26e-03    3.32e-03    5.97e-04    9.90e-05    6.16e-04    1.65e-03\n",
      "      641    1.25e-03    3.30e-03    5.93e-04    9.94e-05    6.12e-04    1.64e-03\n",
      "      642    1.24e-03    3.28e-03    5.88e-04    9.97e-05    6.09e-04    1.63e-03\n",
      "      643    1.23e-03    3.26e-03    5.84e-04    1.00e-04    6.05e-04    1.62e-03\n",
      "      644    1.23e-03    3.24e-03    5.80e-04    1.00e-04    6.02e-04    1.61e-03\n",
      "      645    1.22e-03    3.22e-03    5.76e-04    1.01e-04    5.99e-04    1.60e-03\n",
      "      646    1.21e-03    3.20e-03    5.72e-04    1.01e-04    5.95e-04    1.59e-03\n",
      "      647    1.20e-03    3.19e-03    5.68e-04    1.02e-04    5.92e-04    1.57e-03\n",
      "      648    1.20e-03    3.17e-03    5.64e-04    1.02e-04    5.89e-04    1.56e-03\n",
      "      649    1.19e-03    3.15e-03    5.60e-04    1.02e-04    5.86e-04    1.55e-03\n",
      "      650    1.18e-03    3.13e-03    5.56e-04    1.03e-04    5.82e-04    1.54e-03\n",
      "      651    1.18e-03    3.12e-03    5.52e-04    1.03e-04    5.79e-04    1.53e-03\n",
      "      652    1.17e-03    3.10e-03    5.48e-04    1.03e-04    5.76e-04    1.52e-03\n",
      "      653    1.16e-03    3.08e-03    5.44e-04    1.04e-04    5.73e-04    1.51e-03\n",
      "      654    1.16e-03    3.06e-03    5.40e-04    1.04e-04    5.70e-04    1.50e-03\n",
      "      655    1.15e-03    3.05e-03    5.36e-04    1.04e-04    5.67e-04    1.49e-03\n",
      "      656    1.14e-03    3.03e-03    5.33e-04    1.05e-04    5.64e-04    1.48e-03\n",
      "      657    1.13e-03    3.01e-03    5.29e-04    1.05e-04    5.60e-04    1.47e-03\n",
      "      658    1.13e-03    2.99e-03    5.25e-04    1.05e-04    5.57e-04    1.46e-03\n",
      "      659    1.12e-03    2.98e-03    5.21e-04    1.06e-04    5.54e-04    1.45e-03\n",
      "      660    1.11e-03    2.96e-03    5.18e-04    1.06e-04    5.51e-04    1.44e-03\n",
      "      661    1.11e-03    2.94e-03    5.14e-04    1.06e-04    5.48e-04    1.43e-03\n",
      "      662    1.10e-03    2.93e-03    5.11e-04    1.07e-04    5.45e-04    1.42e-03\n",
      "      663    1.10e-03    2.91e-03    5.07e-04    1.07e-04    5.42e-04    1.41e-03\n",
      "      664    1.09e-03    2.90e-03    5.03e-04    1.08e-04    5.39e-04    1.40e-03\n",
      "      665    1.08e-03    2.88e-03    5.00e-04    1.08e-04    5.36e-04    1.39e-03\n",
      "      666    1.08e-03    2.86e-03    4.96e-04    1.08e-04    5.34e-04    1.38e-03\n",
      "      667    1.07e-03    2.85e-03    4.93e-04    1.09e-04    5.31e-04    1.37e-03\n",
      "      668    1.06e-03    2.83e-03    4.90e-04    1.09e-04    5.28e-04    1.36e-03\n",
      "      669    1.06e-03    2.82e-03    4.86e-04    1.09e-04    5.25e-04    1.35e-03\n",
      "      670    1.05e-03    2.80e-03    4.83e-04    1.10e-04    5.22e-04    1.34e-03\n",
      "      671    1.05e-03    2.78e-03    4.79e-04    1.10e-04    5.19e-04    1.33e-03\n",
      "      672    1.04e-03    2.77e-03    4.76e-04    1.10e-04    5.16e-04    1.33e-03\n",
      "      673    1.03e-03    2.75e-03    4.73e-04    1.11e-04    5.14e-04    1.32e-03\n",
      "      674    1.03e-03    2.74e-03    4.70e-04    1.11e-04    5.11e-04    1.31e-03\n",
      "      675    1.02e-03    2.72e-03    4.66e-04    1.11e-04    5.08e-04    1.30e-03\n",
      "      676    1.02e-03    2.71e-03    4.63e-04    1.12e-04    5.05e-04    1.29e-03\n",
      "      677    1.01e-03    2.69e-03    4.60e-04    1.12e-04    5.03e-04    1.28e-03\n",
      "      678    1.00e-03    2.68e-03    4.57e-04    1.12e-04    5.00e-04    1.27e-03\n",
      "      679    9.99e-04    2.66e-03    4.54e-04    1.13e-04    4.97e-04    1.26e-03\n"
     ]
    }
   ],
   "source": [
    "dumpfile = \"./ensemble_opt_result.dump\"\n",
    "if os.path.isfile(dumpfile):\n",
    "    opt_result = krotov.result.Result.load(dumpfile, objectives)\n",
    "    print_J_T_per_target(iteration=0, tau_vals=opt_result.tau_vals[12])\n",
    "    print(\"      ...\")\n",
    "    n_iters = len(opt_result.tau_vals)\n",
    "    for i in range(n_iters - 10, n_iters):\n",
    "        print_J_T_per_target(iteration=i, tau_vals=opt_result.tau_vals[i])\n",
    "else:\n",
    "    opt_result = krotov.optimize_pulses(\n",
    "        ensemble_objectives,\n",
    "        pulse_options,\n",
    "        tlist,\n",
    "        propagator=krotov.propagators.expm,\n",
    "        chi_constructor=krotov.functionals.chis_re,\n",
    "        info_hook=krotov.info_hooks.chain(\n",
    "            print_J_T_per_target,\n",
    "            krotov.info_hooks.print_table(\n",
    "                J_T=krotov.functionals.J_T_re, out=log_fh\n",
    "            ),\n",
    "        ),\n",
    "        check_convergence=krotov.convergence.Or(\n",
    "            krotov.convergence.value_below(1e-3, name='J_T'),\n",
    "            krotov.convergence.check_monotonic_error,\n",
    "        ),\n",
    "        iter_stop=1000,\n",
    "        continue_from=opt_result,\n",
    "    )\n",
    "    opt_result.dump(dumpfile)"
   ]
  },
  {
   "cell_type": "code",
   "execution_count": 29,
   "metadata": {
    "ExecuteTime": {
     "end_time": "2020-03-22T05:06:03.357680Z",
     "start_time": "2020-03-22T05:06:03.349278Z"
    },
    "execution": {
     "iopub.execute_input": "2024-06-03T14:27:32.205591Z",
     "iopub.status.busy": "2024-06-03T14:27:32.205477Z",
     "iopub.status.idle": "2024-06-03T14:27:32.207655Z",
     "shell.execute_reply": "2024-06-03T14:27:32.207421Z"
    }
   },
   "outputs": [
    {
     "data": {
      "text/plain": [
       "Krotov Optimization Result\n",
       "--------------------------\n",
       "- Started at 2024-06-13 14:19:09\n",
       "- Number of objectives: 5\n",
       "- Number of iterations: 679\n",
       "- Reason for termination: Reached convergence: J_T < 0.001\n",
       "- Ended at 2024-06-13 15:36:46 (1:17:37)"
      ]
     },
     "execution_count": 29,
     "metadata": {},
     "output_type": "execute_result"
    }
   ],
   "source": [
    "opt_result"
   ]
  },
  {
   "cell_type": "code",
   "execution_count": 30,
   "metadata": {
    "ExecuteTime": {
     "end_time": "2020-03-22T05:06:03.366547Z",
     "start_time": "2020-03-22T05:06:03.360976Z"
    },
    "execution": {
     "iopub.execute_input": "2024-06-03T14:27:32.208917Z",
     "iopub.status.busy": "2024-06-03T14:27:32.208835Z",
     "iopub.status.idle": "2024-06-03T14:27:32.210624Z",
     "shell.execute_reply": "2024-06-03T14:27:32.210397Z"
    }
   },
   "outputs": [],
   "source": [
    "log_fh.close()"
   ]
  },
  {
   "cell_type": "markdown",
   "metadata": {},
   "source": [
    "Even now, the ideal Hamiltonian ($\\mu = 1$) has the lowest error in the\n",
    "ensemble by a significant margin. However, notice that the error in the $J_T$\n",
    "for $\\mu = 1$ is actually rising, while the errors for values of $\\mu \\neq 1$\n",
    "are falling by a much larger value! This is a good thing: we sacrifice a little\n",
    "bit of fidelity in the unperturbed dynamics to an increase in robustness.\n",
    "\n",
    "The optimized \"robust\" pulse looks as follows:"
   ]
  },
  {
   "cell_type": "code",
   "execution_count": 31,
   "metadata": {
    "ExecuteTime": {
     "end_time": "2020-03-22T05:06:04.274992Z",
     "start_time": "2020-03-22T05:06:03.369715Z"
    },
    "execution": {
     "iopub.execute_input": "2024-06-03T14:27:32.212020Z",
     "iopub.status.busy": "2024-06-03T14:27:32.211928Z",
     "iopub.status.idle": "2024-06-03T14:27:32.395371Z",
     "shell.execute_reply": "2024-06-03T14:27:32.395105Z"
    }
   },
   "outputs": [
    {
     "name": "stdout",
     "output_type": "stream",
     "text": [
      "pump pulse amplitude and phase:\n"
     ]
    },
    {
     "data": {
      "image/png": "[encoded data removed]",
      "text/plain": [
       "<Figure size 640x480 with 2 Axes>"
      ]
     },
     "metadata": {},
     "output_type": "display_data"
    },
    {
     "name": "stdout",
     "output_type": "stream",
     "text": [
      "Stokes pulse amplitude and phase:\n"
     ]
    },
    {
     "data": {
      "image/png": "[encoded data removed]",
      "text/plain": [
       "<Figure size 640x480 with 2 Axes>"
      ]
     },
     "metadata": {},
     "output_type": "display_data"
    }
   ],
   "source": [
    "def plot_pulse_amplitude_and_phase(pulse_real, pulse_imaginary, tlist):\n",
    "    ax1 = plt.subplot(211)\n",
    "    ax2 = plt.subplot(212)\n",
    "    amplitudes = [\n",
    "        np.sqrt(x * x + y * y) for x, y in zip(pulse_real, pulse_imaginary)\n",
    "    ]\n",
    "    phases = [\n",
    "        np.arctan2(y, x) / np.pi for x, y in zip(pulse_real, pulse_imaginary)\n",
    "    ]\n",
    "    ax1.plot(tlist, amplitudes)\n",
    "    ax1.set_xlabel('time')\n",
    "    ax1.set_ylabel('pulse amplitude')\n",
    "    ax2.plot(tlist, phases)\n",
    "    ax2.set_xlabel('time')\n",
    "    ax2.set_ylabel('pulse phase (π)')\n",
    "    plt.show()\n",
    "\n",
    "\n",
    "print(\"pump pulse amplitude and phase:\")\n",
    "plot_pulse_amplitude_and_phase(\n",
    "    opt_result.optimized_controls[0], opt_result.optimized_controls[1], tlist\n",
    ")\n",
    "print(\"Stokes pulse amplitude and phase:\")\n",
    "plot_pulse_amplitude_and_phase(\n",
    "    opt_result.optimized_controls[2], opt_result.optimized_controls[3], tlist\n",
    ")"
   ]
  },
  {
   "cell_type": "markdown",
   "metadata": {},
   "source": [
    "and produces the dynamics (in the unperturbed system) shown below:"
   ]
  },
  {
   "cell_type": "code",
   "execution_count": 32,
   "metadata": {
    "ExecuteTime": {
     "end_time": "2020-03-22T05:06:04.614894Z",
     "start_time": "2020-03-22T05:06:04.277559Z"
    },
    "execution": {
     "iopub.execute_input": "2024-06-03T14:27:32.396873Z",
     "iopub.status.busy": "2024-06-03T14:27:32.396752Z",
     "iopub.status.idle": "2024-06-03T14:27:32.479090Z",
     "shell.execute_reply": "2024-06-03T14:27:32.478761Z"
    }
   },
   "outputs": [],
   "source": [
    "opt_robust_dynamics = opt_result.optimized_objectives[0].mesolve(\n",
    "    tlist, e_ops=[proj1, proj2, proj3]\n",
    ")"
   ]
  },
  {
   "cell_type": "code",
   "execution_count": 33,
   "metadata": {
    "ExecuteTime": {
     "end_time": "2020-03-22T05:06:04.825054Z",
     "start_time": "2020-03-22T05:06:04.616827Z"
    },
    "execution": {
     "iopub.execute_input": "2024-06-03T14:27:32.480926Z",
     "iopub.status.busy": "2024-06-03T14:27:32.480801Z",
     "iopub.status.idle": "2024-06-03T14:27:32.552270Z",
     "shell.execute_reply": "2024-06-03T14:27:32.551962Z"
    }
   },
   "outputs": [
    {
     "data": {
      "image/png": "[encoded data removed]",
      "text/plain": [
       "<Figure size 640x480 with 1 Axes>"
      ]
     },
     "metadata": {},
     "output_type": "display_data"
    }
   ],
   "source": [
    "plot_population(opt_robust_dynamics)"
   ]
  },
  {
   "cell_type": "markdown",
   "metadata": {},
   "source": [
    "### Robustness analysis"
   ]
  },
  {
   "cell_type": "markdown",
   "metadata": {},
   "source": [
    "When comparing the robustness of the \"robust\" optimized pulse to that obtained\n",
    "from the original optimization for the unperturbed Hamiltonian, we should make\n",
    "sure that we have converged to a comparable error: We would like to avoid the\n",
    "suspicion that the ensemble error is below our threshold only because the error\n",
    "for $\\mu = 1$ is so much lower. Therefore, we continue the original unperturbed\n",
    "optimization for a few more iterations, until we reach the same error $\\approx\n",
    "1.13 \\times 10^{-4}$ that we found as the result of the ensemble optimization,\n",
    "looking at $\\mu=1$ only:"
   ]
  },
  {
   "cell_type": "code",
   "execution_count": 34,
   "metadata": {
    "ExecuteTime": {
     "end_time": "2020-03-22T05:06:04.832756Z",
     "start_time": "2020-03-22T05:06:04.827766Z"
    },
    "execution": {
     "iopub.execute_input": "2024-06-03T14:27:32.553941Z",
     "iopub.status.busy": "2024-06-03T14:27:32.553833Z",
     "iopub.status.idle": "2024-06-03T14:27:32.555755Z",
     "shell.execute_reply": "2024-06-03T14:27:32.555477Z"
    }
   },
   "outputs": [
    {
     "name": "stdout",
     "output_type": "stream",
     "text": [
      "J_T(μ=1) = 2.66e-03\n"
     ]
    }
   ],
   "source": [
    "print(\"J_T(μ=1) = %.2e\" % (1 - opt_result.tau_vals[-1][0].real))"
   ]
  },
  {
   "cell_type": "code",
   "execution_count": 35,
   "metadata": {
    "ExecuteTime": {
     "end_time": "2020-03-22T05:06:16.589810Z",
     "start_time": "2020-03-22T05:06:04.834702Z"
    },
    "execution": {
     "iopub.execute_input": "2024-06-03T14:27:32.557457Z",
     "iopub.status.busy": "2024-06-03T14:27:32.557323Z",
     "iopub.status.idle": "2024-06-03T14:27:38.444412Z",
     "shell.execute_reply": "2024-06-03T14:27:38.444160Z"
    }
   },
   "outputs": [
    {
     "name": "stdout",
     "output_type": "stream",
     "text": [
      "iter.      J_T  ∫gₐ(ϵ₁)dt  ∫gₐ(ϵ₂)dt  ∫gₐ(ϵ₃)dt  ∫gₐ(ϵ₄)dt   ∑∫gₐ(t)dt          J       ΔJ_T         ΔJ  secs\n",
      "0     5.90e-04   0.00e+00   0.00e+00   0.00e+00   0.00e+00    0.00e+00   5.90e-04        n/a        n/a     0\n",
      "13    3.24e-04   6.29e-05   9.90e-06   5.10e-05   9.21e-06    1.33e-04   4.57e-04  -2.66e-04  -1.33e-04     1\n",
      "14    1.83e-04   3.16e-05   7.05e-06   2.56e-05   6.48e-06    7.08e-05   2.53e-04  -1.42e-04  -7.08e-05     1\n",
      "15    1.06e-04   1.60e-05   5.02e-06   1.29e-05   4.56e-06    3.85e-05   1.44e-04  -7.70e-05  -3.85e-05     1\n"
     ]
    }
   ],
   "source": [
    "opt_result_unperturbed_cont = krotov.optimize_pulses(\n",
    "    [objective],\n",
    "    pulse_options,\n",
    "    tlist,\n",
    "    propagator=krotov.propagators.expm,\n",
    "    chi_constructor=krotov.functionals.chis_re,\n",
    "    info_hook=krotov.info_hooks.print_table(\n",
    "        J_T=krotov.functionals.J_T_re,\n",
    "        show_g_a_int_per_pulse=True,\n",
    "    ),\n",
    "    check_convergence=krotov.convergence.Or(\n",
    "        krotov.convergence.value_below(1.13e-4, name='J_T'),\n",
    "        krotov.convergence.check_monotonic_error,\n",
    "    ),\n",
    "    iter_stop=50,\n",
    "    continue_from=opt_result_unperturbed,\n",
    ")"
   ]
  },
  {
   "cell_type": "markdown",
   "metadata": {},
   "source": [
    "Now, we can compare the robustness of the optimized pulses from the original\n",
    "unperturbed optimization (label \"-1\"), the continued unperturbed optimization\n",
    "(label \"0\"), and the ensemble optimization (label \"1\"):"
   ]
  },
  {
   "cell_type": "code",
   "execution_count": 36,
   "metadata": {
    "ExecuteTime": {
     "end_time": "2020-03-22T05:06:25.330316Z",
     "start_time": "2020-03-22T05:06:16.592668Z"
    },
    "execution": {
     "iopub.execute_input": "2024-06-03T14:27:38.445976Z",
     "iopub.status.busy": "2024-06-03T14:27:38.445864Z",
     "iopub.status.idle": "2024-06-03T14:27:40.599983Z",
     "shell.execute_reply": "2024-06-03T14:27:40.599672Z"
    }
   },
   "outputs": [],
   "source": [
    "def _f(mu):\n",
    "    return pop_error(\n",
    "        opt_result_unperturbed_cont.optimized_objectives[0], mu=mu\n",
    "    )\n",
    "\n",
    "\n",
    "pop_errors_norobust_cont = [_f(mu) for mu in mu_vals]"
   ]
  },
  {
   "cell_type": "code",
   "execution_count": 37,
   "metadata": {
    "ExecuteTime": {
     "end_time": "2020-03-22T05:06:34.908457Z",
     "start_time": "2020-03-22T05:06:25.332449Z"
    },
    "execution": {
     "iopub.execute_input": "2024-06-03T14:27:40.601494Z",
     "iopub.status.busy": "2024-06-03T14:27:40.601404Z",
     "iopub.status.idle": "2024-06-03T14:27:42.952722Z",
     "shell.execute_reply": "2024-06-03T14:27:42.952404Z"
    }
   },
   "outputs": [],
   "source": [
    "def _f(mu):\n",
    "    return pop_error(opt_result.optimized_objectives[0], mu=mu)\n",
    "\n",
    "\n",
    "pop_errors_robust = [_f(mu) for mu in mu_vals]"
   ]
  },
  {
   "cell_type": "code",
   "execution_count": 38,
   "metadata": {
    "ExecuteTime": {
     "end_time": "2020-03-22T05:06:35.372866Z",
     "start_time": "2020-03-22T05:06:34.911667Z"
    },
    "execution": {
     "iopub.execute_input": "2024-06-03T14:27:42.954198Z",
     "iopub.status.busy": "2024-06-03T14:27:42.954102Z",
     "iopub.status.idle": "2024-06-03T14:27:43.121127Z",
     "shell.execute_reply": "2024-06-03T14:27:43.120859Z"
    }
   },
   "outputs": [
    {
     "data": {
      "image/png": "[encoded data removed]",
      "text/plain": [
       "<Figure size 640x480 with 1 Axes>"
      ]
     },
     "metadata": {},
     "output_type": "display_data"
    }
   ],
   "source": [
    "plot_robustness(\n",
    "    mu_vals,\n",
    "    pop_errors_robust,\n",
    "    pop_errors0=[pop_errors_norobust_cont, pop_errors_norobust],\n",
    ")"
   ]
  },
  {
   "cell_type": "markdown",
   "metadata": {},
   "source": [
    "We see that without the ensemble optimization, we only lower the error for\n",
    "exactly $\\mu = 1$: the more we converge, the less robust the result. In\n",
    "contrast, the ensemble optimization results in considerably lower errors (order\n",
    "of magnitude!) throughout the highlighted \"region of interest\" and beyond."
   ]
  }
 ],
 "metadata": {
  "hide_input": false,
  "jupytext": {
   "formats": ""
  },
  "kernelspec": {
   "display_name": "Python 3 (ipykernel)",
   "language": "python",
   "name": "python3"
  },
  "language_info": {
   "codemirror_mode": {
    "name": "ipython",
    "version": 3
   },
   "file_extension": ".py",
   "mimetype": "text/x-python",
   "name": "python",
   "nbconvert_exporter": "python",
   "pygments_lexer": "ipython3",
   "version": "3.11.9"
  },
  "toc": {
   "base_numbering": 1,
   "nav_menu": {},
   "number_sections": true,
   "sideBar": true,
   "skip_h1_title": false,
   "title_cell": "Table of Contents",
   "title_sidebar": "Contents",
   "toc_cell": false,
   "toc_position": {},
   "toc_section_display": true,
   "toc_window_display": false
  },
  "varInspector": {
   "cols": {
    "lenName": 16,
    "lenType": 16,
    "lenVar": 40
   },
   "kernels_config": {
    "python": {
     "delete_cmd_postfix": "",
     "delete_cmd_prefix": "del ",
     "library": "var_list.py",
     "varRefreshCmd": "print(var_dic_list())"
    },
    "r": {
     "delete_cmd_postfix": ") ",
     "delete_cmd_prefix": "rm(",
     "library": "var_list.r",
     "varRefreshCmd": "cat(var_dic_list()) "
    }
   },
   "types_to_exclude": [
    "module",
    "function",
    "builtin_function_or_method",
    "instance",
    "_Feature"
   ],
   "window_display": false
  }
 },
 "nbformat": 4,
 "nbformat_minor": 4
}
